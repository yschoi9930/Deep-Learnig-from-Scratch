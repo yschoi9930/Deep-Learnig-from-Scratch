{
 "cells": [
  {
   "cell_type": "markdown",
   "metadata": {},
   "source": [
    "#  자연어와 단어의 분산표현"
   ]
  },
  {
   "cell_type": "markdown",
   "metadata": {},
   "source": [
    "## 어떻게 단어의 의미를 컴퓨터에게 이해시킬까?\n",
    "\n",
    "1. 시소러스를 활용한기법\n",
    "2. 통계 기반 기법\n",
    "3. 추론 기반 기법(word2vec)"
   ]
  },
  {
   "cell_type": "markdown",
   "metadata": {},
   "source": [
    "## 통계 기반 기법 "
   ]
  },
  {
   "cell_type": "markdown",
   "metadata": {},
   "source": [
    "### 파이썬으로 말뭉치 전처리하기"
   ]
  },
  {
   "cell_type": "code",
   "execution_count": 2,
   "metadata": {
    "ExecuteTime": {
     "end_time": "2021-08-02T13:49:30.811491Z",
     "start_time": "2021-08-02T13:49:30.797370Z"
    }
   },
   "outputs": [],
   "source": [
    "text = 'You say goodbye and I say hello.'"
   ]
  },
  {
   "cell_type": "code",
   "execution_count": 3,
   "metadata": {
    "ExecuteTime": {
     "end_time": "2021-08-02T13:49:30.826726Z",
     "start_time": "2021-08-02T13:49:30.813103Z"
    }
   },
   "outputs": [
    {
     "data": {
      "text/plain": [
       "'you say goodbye and i say hello .'"
      ]
     },
     "execution_count": 3,
     "metadata": {},
     "output_type": "execute_result"
    }
   ],
   "source": [
    "text = text.lower()\n",
    "text = text.replace('.',' .')\n",
    "text"
   ]
  },
  {
   "cell_type": "code",
   "execution_count": 4,
   "metadata": {
    "ExecuteTime": {
     "end_time": "2021-08-02T13:49:30.842329Z",
     "start_time": "2021-08-02T13:49:30.830197Z"
    }
   },
   "outputs": [
    {
     "data": {
      "text/plain": [
       "['you', 'say', 'goodbye', 'and', 'i', 'say', 'hello', '.']"
      ]
     },
     "execution_count": 4,
     "metadata": {},
     "output_type": "execute_result"
    }
   ],
   "source": [
    "words = text.split(' ')\n",
    "words"
   ]
  },
  {
   "cell_type": "code",
   "execution_count": 5,
   "metadata": {
    "ExecuteTime": {
     "end_time": "2021-08-02T13:49:30.857852Z",
     "start_time": "2021-08-02T13:49:30.844801Z"
    }
   },
   "outputs": [],
   "source": [
    "word_to_id = {}\n",
    "id_to_word = {}\n",
    "\n",
    "for word in words :\n",
    "    if word not in word_to_id :\n",
    "        new_id = len(word_to_id)\n",
    "        word_to_id[word] = new_id\n",
    "        id_to_word[new_id] = word"
   ]
  },
  {
   "cell_type": "code",
   "execution_count": 6,
   "metadata": {
    "ExecuteTime": {
     "end_time": "2021-08-02T13:49:30.873131Z",
     "start_time": "2021-08-02T13:49:30.861366Z"
    }
   },
   "outputs": [
    {
     "data": {
      "text/plain": [
       "{0: 'you', 1: 'say', 2: 'goodbye', 3: 'and', 4: 'i', 5: 'hello', 6: '.'}"
      ]
     },
     "execution_count": 6,
     "metadata": {},
     "output_type": "execute_result"
    }
   ],
   "source": [
    "id_to_word"
   ]
  },
  {
   "cell_type": "code",
   "execution_count": 7,
   "metadata": {
    "ExecuteTime": {
     "end_time": "2021-08-02T13:49:30.888476Z",
     "start_time": "2021-08-02T13:49:30.876144Z"
    }
   },
   "outputs": [
    {
     "data": {
      "text/plain": [
       "{'you': 0, 'say': 1, 'goodbye': 2, 'and': 3, 'i': 4, 'hello': 5, '.': 6}"
      ]
     },
     "execution_count": 7,
     "metadata": {},
     "output_type": "execute_result"
    }
   ],
   "source": [
    "word_to_id"
   ]
  },
  {
   "cell_type": "code",
   "execution_count": 8,
   "metadata": {
    "ExecuteTime": {
     "end_time": "2021-08-02T13:49:30.903222Z",
     "start_time": "2021-08-02T13:49:30.890990Z"
    }
   },
   "outputs": [
    {
     "data": {
      "text/plain": [
       "'say'"
      ]
     },
     "execution_count": 8,
     "metadata": {},
     "output_type": "execute_result"
    }
   ],
   "source": [
    "id_to_word[1]"
   ]
  },
  {
   "cell_type": "code",
   "execution_count": 9,
   "metadata": {
    "ExecuteTime": {
     "end_time": "2021-08-02T13:49:30.918221Z",
     "start_time": "2021-08-02T13:49:30.909141Z"
    }
   },
   "outputs": [],
   "source": [
    "import numpy as np"
   ]
  },
  {
   "cell_type": "code",
   "execution_count": 10,
   "metadata": {
    "ExecuteTime": {
     "end_time": "2021-08-02T13:49:30.932994Z",
     "start_time": "2021-08-02T13:49:30.921729Z"
    }
   },
   "outputs": [
    {
     "data": {
      "text/plain": [
       "array([0, 1, 2, 3, 4, 1, 5, 6])"
      ]
     },
     "execution_count": 10,
     "metadata": {},
     "output_type": "execute_result"
    }
   ],
   "source": [
    "corpus = [word_to_id[w] for w in words]\n",
    "corpus = np.array(corpus)\n",
    "corpus"
   ]
  },
  {
   "cell_type": "code",
   "execution_count": 11,
   "metadata": {
    "ExecuteTime": {
     "end_time": "2021-08-02T13:49:30.948532Z",
     "start_time": "2021-08-02T13:49:30.937585Z"
    }
   },
   "outputs": [],
   "source": [
    "def preprocess(text) :\n",
    "    text = text.lower()\n",
    "    text = text.replace('.',' .')\n",
    "    text = text.split(' ')\n",
    "    word_to_id = {}\n",
    "    id_to_word = {}\n",
    "    for word in words :\n",
    "        if word not in word_to_id :\n",
    "            new_id = len(word_to_id)\n",
    "            word_to_id[word] = new_id\n",
    "            id_to_word[new_id] = word\n",
    "    corpus = np.array([word_to_id[w] for w in words])\n",
    "    \n",
    "    return corpus, word_to_id, id_to_word\n",
    "\n",
    "# corpus -> 단어 ID목록, word_to_id -> 단어에서 단어 ID로 , id_to_word -> 단어 ID에서 단어로"
   ]
  },
  {
   "cell_type": "markdown",
   "metadata": {},
   "source": [
    "### 동시발생 행렬"
   ]
  },
  {
   "cell_type": "code",
   "execution_count": 12,
   "metadata": {
    "ExecuteTime": {
     "end_time": "2021-08-02T13:49:30.964176Z",
     "start_time": "2021-08-02T13:49:30.952050Z"
    }
   },
   "outputs": [],
   "source": [
    "import sys\n",
    "text\n",
    "corpus, word_to_id, id_to_word = preprocess(text)"
   ]
  },
  {
   "cell_type": "code",
   "execution_count": 13,
   "metadata": {
    "ExecuteTime": {
     "end_time": "2021-08-02T13:49:30.979036Z",
     "start_time": "2021-08-02T13:49:30.966924Z"
    }
   },
   "outputs": [
    {
     "data": {
      "text/plain": [
       "array([0, 1, 2, 3, 4, 1, 5, 6])"
      ]
     },
     "execution_count": 13,
     "metadata": {},
     "output_type": "execute_result"
    }
   ],
   "source": [
    "corpus"
   ]
  },
  {
   "cell_type": "code",
   "execution_count": 14,
   "metadata": {
    "ExecuteTime": {
     "end_time": "2021-08-02T13:49:30.994107Z",
     "start_time": "2021-08-02T13:49:30.981430Z"
    }
   },
   "outputs": [
    {
     "data": {
      "text/plain": [
       "{0: 'you', 1: 'say', 2: 'goodbye', 3: 'and', 4: 'i', 5: 'hello', 6: '.'}"
      ]
     },
     "execution_count": 14,
     "metadata": {},
     "output_type": "execute_result"
    }
   ],
   "source": [
    "id_to_word"
   ]
  },
  {
   "cell_type": "code",
   "execution_count": 15,
   "metadata": {
    "ExecuteTime": {
     "end_time": "2021-08-02T13:49:31.010243Z",
     "start_time": "2021-08-02T13:49:30.997583Z"
    }
   },
   "outputs": [],
   "source": [
    "def create_co_matrix(corpus, vocab_size, window_size =1): # 윈도우 사이즈 -> 맥락크기\n",
    "    corpus_size = len(corpus)\n",
    "    co_matrix = np.zeros((vocab_size, vocab_size), dtype=np.int32)\n",
    "    \n",
    "    for idx, word_id in enumerate(corpus) :\n",
    "        for i in range(1, window_size+1) :\n",
    "            left_idx = idx-i\n",
    "            right_idx = idx+i\n",
    "            \n",
    "            if left_idx >= 0 :\n",
    "                left_word_id = corpus[left_idx]\n",
    "                co_matrix[word_id, left_word_id] +=1\n",
    "            if right_idx < corpus_size:\n",
    "                right_word_id = corpus[right_idx]\n",
    "                co_matrix[word_id, right_word_id] +=1\n",
    "    return co_matrix"
   ]
  },
  {
   "cell_type": "markdown",
   "metadata": {},
   "source": [
    "### 벡터 간 유사도"
   ]
  },
  {
   "cell_type": "code",
   "execution_count": 16,
   "metadata": {
    "ExecuteTime": {
     "end_time": "2021-08-02T13:49:31.024644Z",
     "start_time": "2021-08-02T13:49:31.014605Z"
    }
   },
   "outputs": [],
   "source": [
    "def cos_similarity(x,y, eps = 1e-8) :\n",
    "    nx = x / np.sqrt(np.sum(x**2) + eps) # x의 정규화\n",
    "    ny = y / np.sqrt(np.sum(y**2) + eps) # y의 정규화\n",
    "    return np.dot(nx, ny)"
   ]
  },
  {
   "cell_type": "code",
   "execution_count": 17,
   "metadata": {
    "ExecuteTime": {
     "end_time": "2021-08-02T13:49:31.039667Z",
     "start_time": "2021-08-02T13:49:31.028306Z"
    }
   },
   "outputs": [],
   "source": [
    "vocab_size = len(word_to_id)"
   ]
  },
  {
   "cell_type": "code",
   "execution_count": 18,
   "metadata": {
    "ExecuteTime": {
     "end_time": "2021-08-02T13:49:31.054776Z",
     "start_time": "2021-08-02T13:49:31.044688Z"
    }
   },
   "outputs": [],
   "source": [
    "C = create_co_matrix(corpus, vocab_size)"
   ]
  },
  {
   "cell_type": "code",
   "execution_count": 19,
   "metadata": {
    "ExecuteTime": {
     "end_time": "2021-08-02T13:49:31.070269Z",
     "start_time": "2021-08-02T13:49:31.057285Z"
    }
   },
   "outputs": [
    {
     "name": "stdout",
     "output_type": "stream",
     "text": [
      "0.7071067758832467\n"
     ]
    }
   ],
   "source": [
    "C0 = C[word_to_id['you']]\n",
    "C1 = C[word_to_id['i']]\n",
    "print(cos_similarity(C0,C1))"
   ]
  },
  {
   "cell_type": "markdown",
   "metadata": {},
   "source": [
    "### 유사 단어의 랭킹 표시"
   ]
  },
  {
   "cell_type": "code",
   "execution_count": 20,
   "metadata": {
    "ExecuteTime": {
     "end_time": "2021-08-02T13:49:31.085725Z",
     "start_time": "2021-08-02T13:49:31.071918Z"
    },
    "code_folding": []
   },
   "outputs": [],
   "source": [
    "def most_similar(query, word_to_id, id_to_word, word_matrix, top=5):\n",
    "    # 검색어를 꺼낸다\n",
    "    if query not in word_to_id :\n",
    "        print(\"%s(을)를 찾을 수 없습니다.\" % query)\n",
    "        return\n",
    "    \n",
    "    print('\\n[query]' + query)\n",
    "    query_id = word_to_id[query]\n",
    "    query_vec = word_matrix[query_id]\n",
    "    \n",
    "    # 코사인 유사도 계산\n",
    "    vocab_size = len(id_to_word)\n",
    "    similarity = np.zeros(vocab_size)\n",
    "    for i in range(vocab_size) :\n",
    "        similarity[i] = cos_similarity(word_matrix[i],query_vec)\n",
    "    \n",
    "    # 코사인 유사도를 기준으로 내림차순으로 출력\n",
    "    count = 0\n",
    "    for i in (-1 * similarity).argsort() : # argsort() -> 넘파이 원소를 오름차순으로 정렬 후 인덱스 반환, -1 곱하면 내림차순\n",
    "        if id_to_word[i] == query:\n",
    "            continue\n",
    "        print('%s : %s' %(id_to_word[i], similarity[i].round(2)))\n",
    "        count +=1\n",
    "        if count >= top :\n",
    "            return"
   ]
  },
  {
   "cell_type": "code",
   "execution_count": 21,
   "metadata": {
    "ExecuteTime": {
     "end_time": "2021-08-02T13:49:31.101379Z",
     "start_time": "2021-08-02T13:49:31.088320Z"
    }
   },
   "outputs": [
    {
     "name": "stdout",
     "output_type": "stream",
     "text": [
      "\n",
      "[query]you\n",
      "goodbye : 0.71\n",
      "i : 0.71\n",
      "hello : 0.71\n",
      "say : 0.0\n",
      "and : 0.0\n"
     ]
    }
   ],
   "source": [
    "most_similar('you', word_to_id, id_to_word, C, top=5)"
   ]
  },
  {
   "cell_type": "markdown",
   "metadata": {},
   "source": [
    "## 통계 기반 기법 개선하기"
   ]
  },
  {
   "cell_type": "markdown",
   "metadata": {},
   "source": [
    "### 상호정보량"
   ]
  },
  {
   "cell_type": "code",
   "execution_count": 22,
   "metadata": {
    "ExecuteTime": {
     "end_time": "2021-08-02T13:49:31.116628Z",
     "start_time": "2021-08-02T13:49:31.102893Z"
    },
    "scrolled": true
   },
   "outputs": [
    {
     "data": {
      "text/plain": [
       "array([[0, 1, 0, 0, 0, 0, 0],\n",
       "       [1, 0, 1, 0, 1, 1, 0],\n",
       "       [0, 1, 0, 1, 0, 0, 0],\n",
       "       [0, 0, 1, 0, 1, 0, 0],\n",
       "       [0, 1, 0, 1, 0, 0, 0],\n",
       "       [0, 1, 0, 0, 0, 0, 1],\n",
       "       [0, 0, 0, 0, 0, 1, 0]])"
      ]
     },
     "execution_count": 22,
     "metadata": {},
     "output_type": "execute_result"
    }
   ],
   "source": [
    "C"
   ]
  },
  {
   "cell_type": "code",
   "execution_count": 38,
   "metadata": {
    "ExecuteTime": {
     "end_time": "2021-08-02T14:05:51.143655Z",
     "start_time": "2021-08-02T14:05:51.132944Z"
    }
   },
   "outputs": [],
   "source": [
    "def ppmi(C, verbose = False, eps = 1e-8): # verbose = 진행상황 출력 여부를 결정\n",
    "    M = np.zeros_like(C, dtype = np.float32)\n",
    "    N = np.sum(C) # 말뭉치 단어의 수\n",
    "    S = np.sum(C, axis=0)\n",
    "    total = C.shape[0] * C.shape[1]\n",
    "    cnt = 0\n",
    "    \n",
    "    for i in range(C.shape[0]) :\n",
    "        for j in range(C.shape[1]):\n",
    "            pmi = np.log2(C[i,j]*N / (S[j]*S[i])+eps)\n",
    "            M[i,j] = max(0,pmi)\n",
    "            \n",
    "            if verbose :\n",
    "                cnt +=1\n",
    "                if cnt % (total//100) == 0 :\n",
    "                    print('%.1f%% 완료' % (100*cnt/total))\n",
    "    return M"
   ]
  },
  {
   "cell_type": "code",
   "execution_count": 39,
   "metadata": {
    "ExecuteTime": {
     "end_time": "2021-08-02T14:05:51.889288Z",
     "start_time": "2021-08-02T14:05:51.870026Z"
    }
   },
   "outputs": [
    {
     "name": "stdout",
     "output_type": "stream",
     "text": [
      "동시발생행렬\n",
      "[[0 1 0 0 0 0 0]\n",
      " [1 0 1 0 1 1 0]\n",
      " [0 1 0 1 0 0 0]\n",
      " [0 0 1 0 1 0 0]\n",
      " [0 1 0 1 0 0 0]\n",
      " [0 1 0 0 0 0 1]\n",
      " [0 0 0 0 0 1 0]]\n",
      "--------------------------------------------------\n",
      "PPMI\n",
      "[[0.    1.807 0.    0.    0.    0.    0.   ]\n",
      " [1.807 0.    0.807 0.    0.807 0.807 0.   ]\n",
      " [0.    0.807 0.    1.807 0.    0.    0.   ]\n",
      " [0.    0.    1.807 0.    1.807 0.    0.   ]\n",
      " [0.    0.807 0.    1.807 0.    0.    0.   ]\n",
      " [0.    0.807 0.    0.    0.    0.    2.807]\n",
      " [0.    0.    0.    0.    0.    2.807 0.   ]]\n"
     ]
    }
   ],
   "source": [
    "W = ppmi(C)\n",
    "np.set_printoptions(precision=3)\n",
    "print('동시발생행렬')\n",
    "print(C)\n",
    "print('-'*50)\n",
    "print('PPMI')\n",
    "print(W)"
   ]
  },
  {
   "cell_type": "code",
   "execution_count": 26,
   "metadata": {
    "ExecuteTime": {
     "end_time": "2021-08-02T13:50:18.164925Z",
     "start_time": "2021-08-02T13:50:18.151826Z"
    }
   },
   "outputs": [
    {
     "data": {
      "text/plain": [
       "array([1, 4, 2, 2, 2, 2, 1])"
      ]
     },
     "execution_count": 26,
     "metadata": {},
     "output_type": "execute_result"
    }
   ],
   "source": [
    "np.sum(C, axis=0)"
   ]
  },
  {
   "cell_type": "markdown",
   "metadata": {},
   "source": [
    "### 차원감소"
   ]
  },
  {
   "cell_type": "code",
   "execution_count": 40,
   "metadata": {
    "ExecuteTime": {
     "end_time": "2021-08-02T14:13:43.659613Z",
     "start_time": "2021-08-02T14:13:43.632133Z"
    }
   },
   "outputs": [],
   "source": [
    "U, S, V = np.linalg.svd(W)"
   ]
  },
  {
   "cell_type": "code",
   "execution_count": 41,
   "metadata": {
    "ExecuteTime": {
     "end_time": "2021-08-02T14:13:49.381020Z",
     "start_time": "2021-08-02T14:13:49.359891Z"
    }
   },
   "outputs": [
    {
     "data": {
      "text/plain": [
       "(array([[ 3.409e-01, -1.110e-16, -4.441e-16, -1.205e-01,  0.000e+00,\n",
       "         -9.323e-01, -1.086e-16],\n",
       "        [ 0.000e+00, -5.976e-01,  1.802e-01,  0.000e+00, -7.812e-01,\n",
       "          0.000e+00,  0.000e+00],\n",
       "        [ 4.363e-01, -5.551e-17, -2.220e-16, -5.088e-01, -1.388e-17,\n",
       "          2.253e-01, -7.071e-01],\n",
       "        [ 1.620e-16, -4.978e-01,  6.804e-01, -5.249e-17,  5.378e-01,\n",
       "         -1.285e-16,  8.576e-18],\n",
       "        [ 4.363e-01, -3.229e-17, -1.654e-16, -5.088e-01, -1.345e-17,\n",
       "          2.253e-01,  7.071e-01],\n",
       "        [ 7.092e-01, -3.229e-17, -1.654e-16,  6.839e-01, -1.345e-17,\n",
       "          1.710e-01,  7.688e-17],\n",
       "        [-2.564e-16, -6.285e-01, -7.103e-01,  8.460e-17,  3.169e-01,\n",
       "          2.492e-16, -1.104e-17]], dtype=float32),\n",
       " array([3.168e+00, 3.168e+00, 2.703e+00, 2.703e+00, 1.514e+00, 1.514e+00,\n",
       "        2.555e-17], dtype=float32),\n",
       " array([[-0.000e+00,  5.976e-01,  2.257e-16,  4.978e-01,  1.701e-16,\n",
       "         -2.739e-16,  6.285e-01],\n",
       "        [-3.409e-01, -1.110e-16, -4.363e-01,  0.000e+00, -4.363e-01,\n",
       "         -7.092e-01, -0.000e+00],\n",
       "        [ 1.205e-01, -4.718e-16,  5.088e-01,  0.000e+00,  5.088e-01,\n",
       "         -6.839e-01, -0.000e+00],\n",
       "        [ 0.000e+00, -1.802e-01, -6.990e-17, -6.804e-01, -4.214e-17,\n",
       "          6.888e-17,  7.103e-01],\n",
       "        [-9.323e-01, -5.551e-17,  2.253e-01,  0.000e+00,  2.253e-01,\n",
       "          1.710e-01, -0.000e+00],\n",
       "        [ 0.000e+00, -7.812e-01, -2.663e-16,  5.378e-01, -1.552e-16,\n",
       "          3.444e-16,  3.169e-01],\n",
       "        [ 0.000e+00,  3.886e-17, -7.071e-01, -1.174e-16,  7.071e-01,\n",
       "          5.387e-17, -7.188e-17]], dtype=float32))"
      ]
     },
     "execution_count": 41,
     "metadata": {},
     "output_type": "execute_result"
    }
   ],
   "source": [
    "np.linalg.svd(W)"
   ]
  },
  {
   "cell_type": "code",
   "execution_count": 42,
   "metadata": {
    "ExecuteTime": {
     "end_time": "2021-08-02T14:14:46.543552Z",
     "start_time": "2021-08-02T14:14:46.534808Z"
    }
   },
   "outputs": [
    {
     "name": "stdout",
     "output_type": "stream",
     "text": [
      "[ 3.409e-01 -1.110e-16]\n"
     ]
    }
   ],
   "source": [
    "print(U[0,:2]) # 밀집벡터의 차원 감소, 2차원 벡터로 줄어듦"
   ]
  },
  {
   "cell_type": "code",
   "execution_count": 45,
   "metadata": {
    "ExecuteTime": {
     "end_time": "2021-08-02T14:16:10.678919Z",
     "start_time": "2021-08-02T14:16:10.323579Z"
    }
   },
   "outputs": [],
   "source": [
    "import matplotlib.pyplot as plt"
   ]
  },
  {
   "cell_type": "code",
   "execution_count": 53,
   "metadata": {
    "ExecuteTime": {
     "end_time": "2021-08-02T14:18:16.208226Z",
     "start_time": "2021-08-02T14:18:16.021231Z"
    }
   },
   "outputs": [
    {
     "data": {
      "image/png": "[encoded data removed]",
      "text/plain": [
       "<Figure size 432x288 with 1 Axes>"
      ]
     },
     "metadata": {
      "needs_background": "light"
     },
     "output_type": "display_data"
    }
   ],
   "source": [
    "for word, word_id in word_to_id.items() :\n",
    "    plt.annotate(word, (U[word_id,0], U[word_id,1])) # 2차원으로 표현\n",
    "\n",
    "plt.scatter(U[:,0], U[:,1], alpha=0.5)\n",
    "plt.show()"
   ]
  },
  {
   "cell_type": "code",
   "execution_count": 52,
   "metadata": {
    "ExecuteTime": {
     "end_time": "2021-08-02T14:17:38.259973Z",
     "start_time": "2021-08-02T14:17:38.248081Z"
    }
   },
   "outputs": [
    {
     "data": {
      "text/plain": [
       "(0.0, -0.5976364, 0.1802379)"
      ]
     },
     "execution_count": 52,
     "metadata": {},
     "output_type": "execute_result"
    }
   ],
   "source": [
    "U[1,0], U[1,1], U[1,2]"
   ]
  },
  {
   "cell_type": "markdown",
   "metadata": {},
   "source": [
    "### PTB 데이터셋"
   ]
  },
  {
   "cell_type": "code",
   "execution_count": 57,
   "metadata": {
    "ExecuteTime": {
     "end_time": "2021-08-02T14:22:51.975156Z",
     "start_time": "2021-08-02T14:22:51.968448Z"
    }
   },
   "outputs": [],
   "source": [
    "import ptb"
   ]
  },
  {
   "cell_type": "code",
   "execution_count": 59,
   "metadata": {
    "ExecuteTime": {
     "end_time": "2021-08-02T14:23:28.566306Z",
     "start_time": "2021-08-02T14:23:26.781956Z"
    }
   },
   "outputs": [
    {
     "name": "stdout",
     "output_type": "stream",
     "text": [
      "Downloading ptb.train.txt ... \n",
      "Done\n"
     ]
    }
   ],
   "source": [
    "corpus, word_to_id, id_to_word = ptb.load_data('train')"
   ]
  },
  {
   "cell_type": "code",
   "execution_count": null,
   "metadata": {},
   "outputs": [],
   "source": [
    "# corpus : "
   ]
  },
  {
   "cell_type": "code",
   "execution_count": 63,
   "metadata": {
    "ExecuteTime": {
     "end_time": "2021-08-02T15:19:56.584744Z",
     "start_time": "2021-08-02T15:19:56.579621Z"
    }
   },
   "outputs": [
    {
     "data": {
      "text/plain": [
       "10000"
      ]
     },
     "execution_count": 63,
     "metadata": {},
     "output_type": "execute_result"
    }
   ],
   "source": [
    "len(id_to_word)"
   ]
  },
  {
   "cell_type": "code",
   "execution_count": 64,
   "metadata": {
    "ExecuteTime": {
     "end_time": "2021-08-02T15:20:02.748054Z",
     "start_time": "2021-08-02T15:20:02.742979Z"
    }
   },
   "outputs": [
    {
     "data": {
      "text/plain": [
       "929589"
      ]
     },
     "execution_count": 64,
     "metadata": {},
     "output_type": "execute_result"
    }
   ],
   "source": [
    "len(corpus)"
   ]
  },
  {
   "cell_type": "code",
   "execution_count": 61,
   "metadata": {
    "ExecuteTime": {
     "end_time": "2021-08-02T14:23:52.372332Z",
     "start_time": "2021-08-02T14:23:52.333466Z"
    }
   },
   "outputs": [
    {
     "data": {
      "text/plain": [
       "{'aer': 0,\n",
       " 'banknote': 1,\n",
       " 'berlitz': 2,\n",
       " 'calloway': 3,\n",
       " 'centrust': 4,\n",
       " 'cluett': 5,\n",
       " 'fromstein': 6,\n",
       " 'gitano': 7,\n",
       " 'guterman': 8,\n",
       " 'hydro-quebec': 9,\n",
       " 'ipo': 10,\n",
       " 'kia': 11,\n",
       " 'memotec': 12,\n",
       " 'mlx': 13,\n",
       " 'nahb': 14,\n",
       " 'punts': 15,\n",
       " 'rake': 16,\n",
       " 'regatta': 17,\n",
       " 'rubens': 18,\n",
       " 'sim': 19,\n",
       " 'snack-food': 20,\n",
       " 'ssangyong': 21,\n",
       " 'swapo': 22,\n",
       " 'wachter': 23,\n",
       " '<eos>': 24,\n",
       " 'pierre': 25,\n",
       " '<unk>': 26,\n",
       " 'N': 27,\n",
       " 'years': 28,\n",
       " 'old': 29,\n",
       " 'will': 30,\n",
       " 'join': 31,\n",
       " 'the': 32,\n",
       " 'board': 33,\n",
       " 'as': 34,\n",
       " 'a': 35,\n",
       " 'nonexecutive': 36,\n",
       " 'director': 37,\n",
       " 'nov.': 38,\n",
       " 'mr.': 39,\n",
       " 'is': 40,\n",
       " 'chairman': 41,\n",
       " 'of': 42,\n",
       " 'n.v.': 43,\n",
       " 'dutch': 44,\n",
       " 'publishing': 45,\n",
       " 'group': 46,\n",
       " 'rudolph': 47,\n",
       " 'and': 48,\n",
       " 'former': 49,\n",
       " 'consolidated': 50,\n",
       " 'gold': 51,\n",
       " 'fields': 52,\n",
       " 'plc': 53,\n",
       " 'was': 54,\n",
       " 'named': 55,\n",
       " 'this': 56,\n",
       " 'british': 57,\n",
       " 'industrial': 58,\n",
       " 'conglomerate': 59,\n",
       " 'form': 60,\n",
       " 'asbestos': 61,\n",
       " 'once': 62,\n",
       " 'used': 63,\n",
       " 'to': 64,\n",
       " 'make': 65,\n",
       " 'kent': 66,\n",
       " 'cigarette': 67,\n",
       " 'filters': 68,\n",
       " 'has': 69,\n",
       " 'caused': 70,\n",
       " 'high': 71,\n",
       " 'percentage': 72,\n",
       " 'cancer': 73,\n",
       " 'deaths': 74,\n",
       " 'among': 75,\n",
       " 'workers': 76,\n",
       " 'exposed': 77,\n",
       " 'it': 78,\n",
       " 'more': 79,\n",
       " 'than': 80,\n",
       " 'ago': 81,\n",
       " 'researchers': 82,\n",
       " 'reported': 83,\n",
       " 'fiber': 84,\n",
       " 'unusually': 85,\n",
       " 'enters': 86,\n",
       " 'with': 87,\n",
       " 'even': 88,\n",
       " 'brief': 89,\n",
       " 'exposures': 90,\n",
       " 'causing': 91,\n",
       " 'symptoms': 92,\n",
       " 'that': 93,\n",
       " 'show': 94,\n",
       " 'up': 95,\n",
       " 'decades': 96,\n",
       " 'later': 97,\n",
       " 'said': 98,\n",
       " 'inc.': 99,\n",
       " 'unit': 100,\n",
       " 'new': 101,\n",
       " 'york-based': 102,\n",
       " 'corp.': 103,\n",
       " 'makes': 104,\n",
       " 'cigarettes': 105,\n",
       " 'stopped': 106,\n",
       " 'using': 107,\n",
       " 'in': 108,\n",
       " 'its': 109,\n",
       " 'although': 110,\n",
       " 'preliminary': 111,\n",
       " 'findings': 112,\n",
       " 'were': 113,\n",
       " 'year': 114,\n",
       " 'latest': 115,\n",
       " 'results': 116,\n",
       " 'appear': 117,\n",
       " 'today': 118,\n",
       " \"'s\": 119,\n",
       " 'england': 120,\n",
       " 'journal': 121,\n",
       " 'medicine': 122,\n",
       " 'forum': 123,\n",
       " 'likely': 124,\n",
       " 'bring': 125,\n",
       " 'attention': 126,\n",
       " 'problem': 127,\n",
       " 'an': 128,\n",
       " 'story': 129,\n",
       " 'we': 130,\n",
       " \"'re\": 131,\n",
       " 'talking': 132,\n",
       " 'about': 133,\n",
       " 'before': 134,\n",
       " 'anyone': 135,\n",
       " 'heard': 136,\n",
       " 'having': 137,\n",
       " 'any': 138,\n",
       " 'questionable': 139,\n",
       " 'properties': 140,\n",
       " 'there': 141,\n",
       " 'no': 142,\n",
       " 'our': 143,\n",
       " 'products': 144,\n",
       " 'now': 145,\n",
       " 'neither': 146,\n",
       " 'nor': 147,\n",
       " 'who': 148,\n",
       " 'studied': 149,\n",
       " 'aware': 150,\n",
       " 'research': 151,\n",
       " 'on': 152,\n",
       " 'smokers': 153,\n",
       " 'have': 154,\n",
       " 'useful': 155,\n",
       " 'information': 156,\n",
       " 'whether': 157,\n",
       " 'users': 158,\n",
       " 'are': 159,\n",
       " 'at': 160,\n",
       " 'risk': 161,\n",
       " 'james': 162,\n",
       " 'a.': 163,\n",
       " 'boston': 164,\n",
       " 'institute': 165,\n",
       " 'dr.': 166,\n",
       " 'led': 167,\n",
       " 'team': 168,\n",
       " 'from': 169,\n",
       " 'national': 170,\n",
       " 'medical': 171,\n",
       " 'schools': 172,\n",
       " 'harvard': 173,\n",
       " 'university': 174,\n",
       " 'spokeswoman': 175,\n",
       " 'very': 176,\n",
       " 'modest': 177,\n",
       " 'amounts': 178,\n",
       " 'making': 179,\n",
       " 'paper': 180,\n",
       " 'for': 181,\n",
       " 'early': 182,\n",
       " '1950s': 183,\n",
       " 'replaced': 184,\n",
       " 'different': 185,\n",
       " 'type': 186,\n",
       " 'billion': 187,\n",
       " 'sold': 188,\n",
       " 'company': 189,\n",
       " 'men': 190,\n",
       " 'worked': 191,\n",
       " 'closely': 192,\n",
       " 'substance': 193,\n",
       " 'died': 194,\n",
       " 'three': 195,\n",
       " 'times': 196,\n",
       " 'expected': 197,\n",
       " 'number': 198,\n",
       " 'four': 199,\n",
       " 'five': 200,\n",
       " 'surviving': 201,\n",
       " 'diseases': 202,\n",
       " 'including': 203,\n",
       " 'recently': 204,\n",
       " 'total': 205,\n",
       " 'malignant': 206,\n",
       " 'lung': 207,\n",
       " 'far': 208,\n",
       " 'higher': 209,\n",
       " 'rate': 210,\n",
       " 'striking': 211,\n",
       " 'finding': 212,\n",
       " 'those': 213,\n",
       " 'us': 214,\n",
       " 'study': 215,\n",
       " 'west': 216,\n",
       " 'mass.': 217,\n",
       " 'factory': 218,\n",
       " 'appears': 219,\n",
       " 'be': 220,\n",
       " 'highest': 221,\n",
       " 'western': 222,\n",
       " 'industrialized': 223,\n",
       " 'countries': 224,\n",
       " 'he': 225,\n",
       " 'plant': 226,\n",
       " 'which': 227,\n",
       " 'owned': 228,\n",
       " 'by': 229,\n",
       " '&': 230,\n",
       " 'co.': 231,\n",
       " 'under': 232,\n",
       " 'contract': 233,\n",
       " 'probably': 234,\n",
       " 'support': 235,\n",
       " 'argue': 236,\n",
       " 'u.s.': 237,\n",
       " 'should': 238,\n",
       " 'regulate': 239,\n",
       " 'class': 240,\n",
       " 'common': 241,\n",
       " 'kind': 242,\n",
       " 'found': 243,\n",
       " 'most': 244,\n",
       " 'other': 245,\n",
       " 'buildings': 246,\n",
       " 'one': 247,\n",
       " 'few': 248,\n",
       " 'nations': 249,\n",
       " 'does': 250,\n",
       " \"n't\": 251,\n",
       " 'standard': 252,\n",
       " 'regulation': 253,\n",
       " 'smooth': 254,\n",
       " 'fibers': 255,\n",
       " 'such': 256,\n",
       " 'classified': 257,\n",
       " 'according': 258,\n",
       " 't.': 259,\n",
       " 'professor': 260,\n",
       " 'vermont': 261,\n",
       " 'college': 262,\n",
       " 'easily': 263,\n",
       " 'rejected': 264,\n",
       " 'body': 265,\n",
       " 'explained': 266,\n",
       " 'july': 267,\n",
       " 'environmental': 268,\n",
       " 'protection': 269,\n",
       " 'agency': 270,\n",
       " 'imposed': 271,\n",
       " 'gradual': 272,\n",
       " 'ban': 273,\n",
       " 'virtually': 274,\n",
       " 'all': 275,\n",
       " 'uses': 276,\n",
       " 'almost': 277,\n",
       " 'remaining': 278,\n",
       " 'outlawed': 279,\n",
       " 'made': 280,\n",
       " 'areas': 281,\n",
       " 'particularly': 282,\n",
       " 'dusty': 283,\n",
       " 'where': 284,\n",
       " 'dumped': 285,\n",
       " 'large': 286,\n",
       " 'imported': 287,\n",
       " 'material': 288,\n",
       " 'into': 289,\n",
       " 'huge': 290,\n",
       " 'poured': 291,\n",
       " 'cotton': 292,\n",
       " 'mixed': 293,\n",
       " 'dry': 294,\n",
       " 'process': 295,\n",
       " 'described': 296,\n",
       " 'clouds': 297,\n",
       " 'blue': 298,\n",
       " 'dust': 299,\n",
       " 'hung': 300,\n",
       " 'over': 301,\n",
       " 'parts': 302,\n",
       " 'though': 303,\n",
       " 'fans': 304,\n",
       " 'area': 305,\n",
       " 'question': 306,\n",
       " 'some': 307,\n",
       " 'managers': 308,\n",
       " 'contracted': 309,\n",
       " 'phillips': 310,\n",
       " 'vice': 311,\n",
       " 'president': 312,\n",
       " 'human': 313,\n",
       " 'resources': 314,\n",
       " 'but': 315,\n",
       " 'you': 316,\n",
       " 'recognize': 317,\n",
       " 'these': 318,\n",
       " 'events': 319,\n",
       " 'took': 320,\n",
       " 'place': 321,\n",
       " 'bearing': 322,\n",
       " 'work': 323,\n",
       " 'force': 324,\n",
       " 'yields': 325,\n",
       " 'money-market': 326,\n",
       " 'mutual': 327,\n",
       " 'funds': 328,\n",
       " 'continued': 329,\n",
       " 'slide': 330,\n",
       " 'amid': 331,\n",
       " 'signs': 332,\n",
       " 'portfolio': 333,\n",
       " 'expect': 334,\n",
       " 'further': 335,\n",
       " 'declines': 336,\n",
       " 'interest': 337,\n",
       " 'rates': 338,\n",
       " 'average': 339,\n",
       " 'seven-day': 340,\n",
       " 'compound': 341,\n",
       " 'yield': 342,\n",
       " 'taxable': 343,\n",
       " 'tracked': 344,\n",
       " 'money': 345,\n",
       " 'fund': 346,\n",
       " 'report': 347,\n",
       " 'eased': 348,\n",
       " 'fraction': 349,\n",
       " 'point': 350,\n",
       " 'week': 351,\n",
       " 'ended': 352,\n",
       " 'tuesday': 353,\n",
       " 'assume': 354,\n",
       " 'reinvestment': 355,\n",
       " 'dividends': 356,\n",
       " 'current': 357,\n",
       " 'continues': 358,\n",
       " 'maturity': 359,\n",
       " \"'\": 360,\n",
       " 'investments': 361,\n",
       " 'day': 362,\n",
       " 'days': 363,\n",
       " 'longest': 364,\n",
       " 'since': 365,\n",
       " 'august': 366,\n",
       " 'donoghue': 367,\n",
       " 'longer': 368,\n",
       " 'maturities': 369,\n",
       " 'thought': 370,\n",
       " 'indicate': 371,\n",
       " 'declining': 372,\n",
       " 'because': 373,\n",
       " 'they': 374,\n",
       " 'permit': 375,\n",
       " 'retain': 376,\n",
       " 'relatively': 377,\n",
       " 'period': 378,\n",
       " 'shorter': 379,\n",
       " 'considered': 380,\n",
       " 'sign': 381,\n",
       " 'rising': 382,\n",
       " 'can': 383,\n",
       " 'capture': 384,\n",
       " 'sooner': 385,\n",
       " 'open': 386,\n",
       " 'only': 387,\n",
       " 'institutions': 388,\n",
       " 'stronger': 389,\n",
       " 'indicator': 390,\n",
       " 'watch': 391,\n",
       " 'market': 392,\n",
       " 'reached': 393,\n",
       " 'nevertheless': 394,\n",
       " 'editor': 395,\n",
       " 'may': 396,\n",
       " 'again': 397,\n",
       " 'down': 398,\n",
       " 'recent': 399,\n",
       " 'rises': 400,\n",
       " 'short-term': 401,\n",
       " 'six-month': 402,\n",
       " 'treasury': 403,\n",
       " 'bills': 404,\n",
       " 'monday': 405,\n",
       " 'auction': 406,\n",
       " 'example': 407,\n",
       " 'rose': 408,\n",
       " 'despite': 409,\n",
       " 'investors': 410,\n",
       " 'continue': 411,\n",
       " 'pour': 412,\n",
       " 'cash': 413,\n",
       " 'assets': 414,\n",
       " 'grew': 415,\n",
       " '$': 416,\n",
       " 'during': 417,\n",
       " 'typically': 418,\n",
       " 'money-fund': 419,\n",
       " 'beat': 420,\n",
       " 'comparable': 421,\n",
       " 'vary': 422,\n",
       " 'go': 423,\n",
       " 'after': 424,\n",
       " 'top': 425,\n",
       " 'currently': 426,\n",
       " 'yielding': 427,\n",
       " 'well': 428,\n",
       " 'dreyfus': 429,\n",
       " 'world-wide': 430,\n",
       " 'dollar': 431,\n",
       " 'had': 432,\n",
       " 'earlier': 433,\n",
       " 'invests': 434,\n",
       " 'heavily': 435,\n",
       " 'dollar-denominated': 436,\n",
       " 'securities': 437,\n",
       " 'overseas': 438,\n",
       " 'management': 439,\n",
       " 'fees': 440,\n",
       " 'boosts': 441,\n",
       " 'simple': 442,\n",
       " '30-day': 443,\n",
       " 'fell': 444,\n",
       " 'slid': 445,\n",
       " 'j.p.': 446,\n",
       " 'grace': 447,\n",
       " 'holds': 448,\n",
       " 'elected': 449,\n",
       " 'succeeds': 450,\n",
       " 'd.': 451,\n",
       " 'formerly': 452,\n",
       " 'resigned': 453,\n",
       " 'energy': 454,\n",
       " 'seven': 455,\n",
       " 'seats': 456,\n",
       " 'pacific': 457,\n",
       " 'first': 458,\n",
       " 'financial': 459,\n",
       " 'shareholders': 460,\n",
       " 'approved': 461,\n",
       " 'acquisition': 462,\n",
       " 'royal': 463,\n",
       " 'ltd.': 464,\n",
       " 'toronto': 465,\n",
       " 'share': 466,\n",
       " 'or': 467,\n",
       " 'million': 468,\n",
       " 'thrift': 469,\n",
       " 'holding': 470,\n",
       " 'expects': 471,\n",
       " 'obtain': 472,\n",
       " 'regulatory': 473,\n",
       " 'approval': 474,\n",
       " 'complete': 475,\n",
       " 'transaction': 476,\n",
       " 'year-end': 477,\n",
       " 'international': 478,\n",
       " 'completed': 479,\n",
       " 'sale': 480,\n",
       " 'controls': 481,\n",
       " 'operations': 482,\n",
       " 's.p': 483,\n",
       " 'italian': 484,\n",
       " 'state-owned': 485,\n",
       " 'interests': 486,\n",
       " 'mechanical': 487,\n",
       " 'engineering': 488,\n",
       " 'industry': 489,\n",
       " 'based': 490,\n",
       " 'ohio': 491,\n",
       " 'computerized': 492,\n",
       " 'systems': 493,\n",
       " 'employs': 494,\n",
       " 'people': 495,\n",
       " 'annual': 496,\n",
       " 'revenue': 497,\n",
       " 'federal': 498,\n",
       " 'government': 499,\n",
       " 'suspended': 500,\n",
       " 'sales': 501,\n",
       " 'savings': 502,\n",
       " 'bonds': 503,\n",
       " 'congress': 504,\n",
       " 'lifted': 505,\n",
       " 'ceiling': 506,\n",
       " 'debt': 507,\n",
       " 'until': 508,\n",
       " 'acts': 509,\n",
       " 'authority': 510,\n",
       " 'issue': 511,\n",
       " 'obligations': 512,\n",
       " 'borrowing': 513,\n",
       " 'dropped': 514,\n",
       " 'midnight': 515,\n",
       " 'trillion': 516,\n",
       " 'legislation': 517,\n",
       " 'lift': 518,\n",
       " 'fight': 519,\n",
       " 'cutting': 520,\n",
       " 'capital-gains': 521,\n",
       " 'taxes': 522,\n",
       " 'house': 523,\n",
       " 'voted': 524,\n",
       " 'raise': 525,\n",
       " 'senate': 526,\n",
       " 'act': 527,\n",
       " 'next': 528,\n",
       " 'earliest': 529,\n",
       " 'default': 530,\n",
       " 'if': 531,\n",
       " 'then': 532,\n",
       " 'clark': 533,\n",
       " 'j.': 534,\n",
       " 'senior': 535,\n",
       " 'general': 536,\n",
       " 'manager': 537,\n",
       " 'marketing': 538,\n",
       " 'arm': 539,\n",
       " 'japanese': 540,\n",
       " 'auto': 541,\n",
       " 'maker': 542,\n",
       " 'mazda': 543,\n",
       " 'motor': 544,\n",
       " 'corp': 545,\n",
       " 'position': 546,\n",
       " 'oversee': 547,\n",
       " 'service': 548,\n",
       " 'previously': 549,\n",
       " 'chrysler': 550,\n",
       " 'division': 551,\n",
       " 'been': 552,\n",
       " 'executive': 553,\n",
       " 'when': 554,\n",
       " 'time': 555,\n",
       " 'their': 556,\n",
       " 'nation': 557,\n",
       " 'manufacturing': 558,\n",
       " 'jet': 559,\n",
       " 'off': 560,\n",
       " 'resort': 561,\n",
       " 'towns': 562,\n",
       " 'like': 563,\n",
       " 'hot': 564,\n",
       " 'springs': 565,\n",
       " 'not': 566,\n",
       " 'association': 567,\n",
       " 'manufacturers': 568,\n",
       " 'settled': 569,\n",
       " 'capital': 570,\n",
       " 'indianapolis': 571,\n",
       " 'fall': 572,\n",
       " 'meeting': 573,\n",
       " 'city': 574,\n",
       " 'decided': 575,\n",
       " 'treat': 576,\n",
       " 'guests': 577,\n",
       " 'royalty': 578,\n",
       " 'rock': 579,\n",
       " 'stars': 580,\n",
       " 'owners': 581,\n",
       " 'idea': 582,\n",
       " 'course': 583,\n",
       " 'prove': 584,\n",
       " 'corporate': 585,\n",
       " 'decision': 586,\n",
       " 'makers': 587,\n",
       " 'buckle': 588,\n",
       " 'belt': 589,\n",
       " 'so': 590,\n",
       " 'good': 591,\n",
       " 'expand': 592,\n",
       " 'receiving': 593,\n",
       " 'end': 594,\n",
       " 'message': 595,\n",
       " 'officials': 596,\n",
       " 'giants': 597,\n",
       " 'du': 598,\n",
       " 'pont': 599,\n",
       " 'along': 600,\n",
       " 'lesser': 601,\n",
       " 'steel': 602,\n",
       " 'valley': 603,\n",
       " 'queen': 604,\n",
       " 'executives': 605,\n",
       " 'joined': 606,\n",
       " 'mayor': 607,\n",
       " 'william': 608,\n",
       " 'h.': 609,\n",
       " 'iii': 610,\n",
       " 'evening': 611,\n",
       " 'guest': 612,\n",
       " 'victor': 613,\n",
       " 'champagne': 614,\n",
       " 'followed': 615,\n",
       " 'morning': 616,\n",
       " 'police': 617,\n",
       " 'wives': 618,\n",
       " 'traffic': 619,\n",
       " 'red': 620,\n",
       " 'lights': 621,\n",
       " 'governor': 622,\n",
       " 'could': 623,\n",
       " 'welcomed': 624,\n",
       " 'special': 625,\n",
       " 'buffet': 626,\n",
       " 'breakfast': 627,\n",
       " 'held': 628,\n",
       " 'museum': 629,\n",
       " 'food': 630,\n",
       " 'drinks': 631,\n",
       " 'banned': 632,\n",
       " 'everyday': 633,\n",
       " 'visitors': 634,\n",
       " 'honor': 635,\n",
       " 'out': 636,\n",
       " 'drivers': 637,\n",
       " 'crews': 638,\n",
       " 'official': 639,\n",
       " 'announcer': 640,\n",
       " 'exhibition': 641,\n",
       " 'race': 642,\n",
       " 'fortune': 643,\n",
       " 'cars': 644,\n",
       " 'pointed': 645,\n",
       " 'still': 646,\n",
       " 'space': 647,\n",
       " 'machines': 648,\n",
       " 'another': 649,\n",
       " 'sponsor': 650,\n",
       " 'name': 651,\n",
       " 'two': 652,\n",
       " 'back': 653,\n",
       " 'downtown': 654,\n",
       " 'squeezed': 655,\n",
       " 'meetings': 656,\n",
       " 'hotel': 657,\n",
       " 'buses': 658,\n",
       " 'dinner': 659,\n",
       " 'block': 660,\n",
       " 'away': 661,\n",
       " 'indiana': 662,\n",
       " 'nine': 663,\n",
       " 'hottest': 664,\n",
       " 'chefs': 665,\n",
       " 'town': 666,\n",
       " 'fed': 667,\n",
       " 'them': 668,\n",
       " 'knowing': 669,\n",
       " 'free': 670,\n",
       " 'eat': 671,\n",
       " 'gave': 672,\n",
       " 'standing': 673,\n",
       " 'say': 674,\n",
       " 'treatment': 675,\n",
       " 'return': 676,\n",
       " 'future': 677,\n",
       " 'looking': 678,\n",
       " 'forward': 679,\n",
       " 'winter': 680,\n",
       " 'february': 681,\n",
       " 'south': 682,\n",
       " 'korea': 683,\n",
       " 'registered': 684,\n",
       " 'trade': 685,\n",
       " 'deficit': 686,\n",
       " 'october': 687,\n",
       " 'reflecting': 688,\n",
       " 'country': 689,\n",
       " 'economic': 690,\n",
       " 'figures': 691,\n",
       " 'released': 692,\n",
       " 'wednesday': 693,\n",
       " 'ministry': 694,\n",
       " 'showed': 695,\n",
       " 'fifth': 696,\n",
       " 'monthly': 697,\n",
       " 'setback': 698,\n",
       " 'casting': 699,\n",
       " 'cloud': 700,\n",
       " 'economy': 701,\n",
       " 'exports': 702,\n",
       " 'stood': 703,\n",
       " 'mere': 704,\n",
       " 'increase': 705,\n",
       " 'while': 706,\n",
       " 'imports': 707,\n",
       " 'increased': 708,\n",
       " 'sharply': 709,\n",
       " 'last': 710,\n",
       " 'boom': 711,\n",
       " 'began': 712,\n",
       " 'prolonged': 713,\n",
       " 'labor': 714,\n",
       " 'disputes': 715,\n",
       " 'conflicts': 716,\n",
       " 'sluggish': 717,\n",
       " 'would': 718,\n",
       " 'remain': 719,\n",
       " 'target': 720,\n",
       " 'gloomy': 721,\n",
       " 'forecast': 722,\n",
       " 'recorded': 723,\n",
       " 'surplus': 724,\n",
       " 'january': 725,\n",
       " 'accumulated': 726,\n",
       " 'same': 727,\n",
       " 'newsweek': 728,\n",
       " 'trying': 729,\n",
       " 'keep': 730,\n",
       " 'pace': 731,\n",
       " 'rival': 732,\n",
       " 'magazine': 733,\n",
       " 'announced': 734,\n",
       " 'advertising': 735,\n",
       " 'introduce': 736,\n",
       " 'incentive': 737,\n",
       " 'plan': 738,\n",
       " 'advertisers': 739,\n",
       " 'ad': 740,\n",
       " 'washington': 741,\n",
       " 'post': 742,\n",
       " 'second': 743,\n",
       " 'offered': 744,\n",
       " 'plans': 745,\n",
       " 'give': 746,\n",
       " 'discounts': 747,\n",
       " 'maintaining': 748,\n",
       " 'increasing': 749,\n",
       " 'spending': 750,\n",
       " 'become': 751,\n",
       " 'permanent': 752,\n",
       " 'news': 753,\n",
       " 'underscore': 754,\n",
       " 'fierce': 755,\n",
       " 'competition': 756,\n",
       " 'between': 757,\n",
       " 'warner': 758,\n",
       " 'b.': 759,\n",
       " 'world': 760,\n",
       " 'alan': 761,\n",
       " 'full': 762,\n",
       " 'page': 763,\n",
       " 'cost': 764,\n",
       " 'mid-october': 765,\n",
       " 'lowered': 766,\n",
       " 'guaranteed': 767,\n",
       " 'circulation': 768,\n",
       " 'base': 769,\n",
       " 'lower': 770,\n",
       " 'effectively': 771,\n",
       " 'per': 772,\n",
       " 'subscriber': 773,\n",
       " 'costs': 774,\n",
       " 'yet': 775,\n",
       " 'announce': 776,\n",
       " 'credit': 777,\n",
       " 'credits': 778,\n",
       " 'renewal': 779,\n",
       " 'reward': 780,\n",
       " 'bonuses': 781,\n",
       " 'meet': 782,\n",
       " 'exceed': 783,\n",
       " 'long': 784,\n",
       " 'spent': 785,\n",
       " 'attempt': 786,\n",
       " 'shore': 787,\n",
       " 'decline': 788,\n",
       " 'pages': 789,\n",
       " 'months': 790,\n",
       " 'totaled': 791,\n",
       " 'drop': 792,\n",
       " 'publishers': 793,\n",
       " 'bureau': 794,\n",
       " 'what': 795,\n",
       " 'matters': 796,\n",
       " 'paying': 797,\n",
       " 'department': 798,\n",
       " 'doing': 799,\n",
       " 'fine': 800,\n",
       " 'both': 801,\n",
       " 'gaining': 802,\n",
       " 'without': 803,\n",
       " 'heavy': 804,\n",
       " 'use': 805,\n",
       " 'electronic': 806,\n",
       " 'subscribers': 807,\n",
       " 'telephones': 808,\n",
       " 'watches': 809,\n",
       " 'however': 810,\n",
       " 'none': 811,\n",
       " 'big': 812,\n",
       " 'gains': 813,\n",
       " 'audit': 814,\n",
       " 'largest': 815,\n",
       " 'decrease': 816,\n",
       " 'six': 817,\n",
       " 'flat': 818,\n",
       " 'electric': 819,\n",
       " 'system': 820,\n",
       " 'bowed': 821,\n",
       " 'bidding': 822,\n",
       " 'public': 823,\n",
       " 'hampshire': 824,\n",
       " 'saying': 825,\n",
       " 'risks': 826,\n",
       " 'too': 827,\n",
       " 'potential': 828,\n",
       " 'justify': 829,\n",
       " 'offer': 830,\n",
       " 'move': 831,\n",
       " 'leaves': 832,\n",
       " 'united': 833,\n",
       " 'illuminating': 834,\n",
       " 'northeast': 835,\n",
       " 'utilities': 836,\n",
       " 'outside': 837,\n",
       " 'bidders': 838,\n",
       " 'ps': 839,\n",
       " 'also': 840,\n",
       " 'proposed': 841,\n",
       " 'internal': 842,\n",
       " 'reorganization': 843,\n",
       " 'chapter': 844,\n",
       " 'bankruptcy': 845,\n",
       " 'proceedings': 846,\n",
       " 'independent': 847,\n",
       " 'acquire': 848,\n",
       " 'below': 849,\n",
       " 'value': 850,\n",
       " 'places': 851,\n",
       " 'bid': 852,\n",
       " 'says': 853,\n",
       " 'worth': 854,\n",
       " 'haven': 855,\n",
       " 'conn.': 856,\n",
       " 'hartford': 857,\n",
       " 'conn': 858,\n",
       " 'n.h.': 859,\n",
       " 'values': 860,\n",
       " 'john': 861,\n",
       " 'rowe': 862,\n",
       " 'chief': 863,\n",
       " 'officer': 864,\n",
       " 'equity': 865,\n",
       " 'suffer': 866,\n",
       " 'forecasts': 867,\n",
       " 'related': 868,\n",
       " 'growth': 869,\n",
       " 'electricity': 870,\n",
       " 'demand': 871,\n",
       " 'improved': 872,\n",
       " 'operating': 873,\n",
       " 'did': 874,\n",
       " 'come': 875,\n",
       " 'true': 876,\n",
       " 'raising': 877,\n",
       " 'seemed': 878,\n",
       " 'substantial': 879,\n",
       " 'persistent': 880,\n",
       " 'rewards': 881,\n",
       " 'way': 882,\n",
       " 'got': 883,\n",
       " 'hard': 884,\n",
       " 'take': 885,\n",
       " 'added': 886,\n",
       " 'noted': 887,\n",
       " 'political': 888,\n",
       " 'concerns': 889,\n",
       " 'worried': 890,\n",
       " 'matter': 891,\n",
       " 'owns': 892,\n",
       " 'emerges': 893,\n",
       " 'attracts': 894,\n",
       " 'just': 895,\n",
       " 'factors': 896,\n",
       " 'withdraw': 897,\n",
       " 'wilbur': 898,\n",
       " 'ross': 899,\n",
       " 'jr.': 900,\n",
       " 'rothschild': 901,\n",
       " 'adviser': 902,\n",
       " 'troubled': 903,\n",
       " 'holders': 904,\n",
       " 'withdrawal': 905,\n",
       " 'might': 906,\n",
       " 'speed': 907,\n",
       " 'fact': 908,\n",
       " 'increases': 909,\n",
       " 'against': 910,\n",
       " 'around': 911,\n",
       " 'complicated': 912,\n",
       " 'negotiations': 913,\n",
       " 'state': 914,\n",
       " 'asserted': 915,\n",
       " 'field': 916,\n",
       " 'less': 917,\n",
       " 'separately': 918,\n",
       " 'commission': 919,\n",
       " 'turned': 920,\n",
       " 'request': 921,\n",
       " 'seeking': 922,\n",
       " 'possible': 923,\n",
       " 'purchase': 924,\n",
       " 'hopes': 925,\n",
       " 'review': 926,\n",
       " 'ferc': 927,\n",
       " 'summer': 928,\n",
       " 'court': 929,\n",
       " 'shares': 930,\n",
       " 'closed': 931,\n",
       " 'yesterday': 932,\n",
       " 'cents': 933,\n",
       " 'york': 934,\n",
       " 'stock': 935,\n",
       " 'exchange': 936,\n",
       " 'composite': 937,\n",
       " 'trading': 938,\n",
       " 'norman': 939,\n",
       " 'toys': 940,\n",
       " 'r': 941,\n",
       " 'frederick': 942,\n",
       " 'banking': 943,\n",
       " 'directors': 944,\n",
       " 'consumer': 945,\n",
       " 'electronics': 946,\n",
       " 'appliances': 947,\n",
       " 'retailing': 948,\n",
       " 'chain': 949,\n",
       " 'succeed': 950,\n",
       " 'daniel': 951,\n",
       " 'm.': 952,\n",
       " 'retired': 953,\n",
       " 'circuit': 954,\n",
       " 'robert': 955,\n",
       " 'r.': 956,\n",
       " 'undersecretary': 957,\n",
       " 'commonwealth': 958,\n",
       " 'edison': 959,\n",
       " 'ordered': 960,\n",
       " 'refund': 961,\n",
       " 'illegal': 962,\n",
       " 'collected': 963,\n",
       " 'overruns': 964,\n",
       " 'nuclear': 965,\n",
       " 'power': 966,\n",
       " 'illinois': 967,\n",
       " 'commerce': 968,\n",
       " 'groups': 969,\n",
       " 'ever': 970,\n",
       " 'required': 971,\n",
       " 'local': 972,\n",
       " 'utility': 973,\n",
       " 'judge': 974,\n",
       " 'richard': 975,\n",
       " 'curry': 976,\n",
       " 'refunds': 977,\n",
       " 'each': 978,\n",
       " 'customers': 979,\n",
       " 'received': 980,\n",
       " 'april': 981,\n",
       " 'moved': 982,\n",
       " 'begin': 983,\n",
       " 'feb.': 984,\n",
       " 'appeals': 985,\n",
       " 'attempts': 986,\n",
       " 'his': 987,\n",
       " 'order': 988,\n",
       " 'pool': 989,\n",
       " 'through': 990,\n",
       " 'round': 991,\n",
       " 'already': 992,\n",
       " 'appealing': 993,\n",
       " 'underlying': 994,\n",
       " 'considering': 995,\n",
       " 'exact': 996,\n",
       " 'amount': 997,\n",
       " 'determined': 998,\n",
       " 'actual': 999,\n",
       " ...}"
      ]
     },
     "execution_count": 61,
     "metadata": {},
     "output_type": "execute_result"
    }
   ],
   "source": [
    "word_to_id"
   ]
  },
  {
   "cell_type": "markdown",
   "metadata": {},
   "source": [
    "### PTB 데이터셋 평가"
   ]
  },
  {
   "cell_type": "code",
   "execution_count": 65,
   "metadata": {
    "ExecuteTime": {
     "end_time": "2021-08-02T15:28:59.042127Z",
     "start_time": "2021-08-02T15:24:22.858343Z"
    }
   },
   "outputs": [
    {
     "name": "stdout",
     "output_type": "stream",
     "text": [
      "동시 발생 수 계산...\n",
      "PPMI 계산\n"
     ]
    },
    {
     "name": "stderr",
     "output_type": "stream",
     "text": [
      "<ipython-input-38-e3fe03ee76bb>:10: RuntimeWarning: overflow encountered in long_scalars\n",
      "  pmi = np.log2(C[i,j]*N / (S[j]*S[i])+eps)\n",
      "<ipython-input-38-e3fe03ee76bb>:10: RuntimeWarning: invalid value encountered in log2\n",
      "  pmi = np.log2(C[i,j]*N / (S[j]*S[i])+eps)\n"
     ]
    },
    {
     "name": "stdout",
     "output_type": "stream",
     "text": [
      "1.0% 완료\n",
      "2.0% 완료\n",
      "3.0% 완료\n",
      "4.0% 완료\n",
      "5.0% 완료\n",
      "6.0% 완료\n",
      "7.0% 완료\n",
      "8.0% 완료\n",
      "9.0% 완료\n",
      "10.0% 완료\n",
      "11.0% 완료\n",
      "12.0% 완료\n",
      "13.0% 완료\n",
      "14.0% 완료\n",
      "15.0% 완료\n",
      "16.0% 완료\n",
      "17.0% 완료\n",
      "18.0% 완료\n",
      "19.0% 완료\n",
      "20.0% 완료\n",
      "21.0% 완료\n",
      "22.0% 완료\n",
      "23.0% 완료\n",
      "24.0% 완료\n",
      "25.0% 완료\n",
      "26.0% 완료\n",
      "27.0% 완료\n",
      "28.0% 완료\n",
      "29.0% 완료\n",
      "30.0% 완료\n",
      "31.0% 완료\n",
      "32.0% 완료\n",
      "33.0% 완료\n",
      "34.0% 완료\n",
      "35.0% 완료\n",
      "36.0% 완료\n",
      "37.0% 완료\n",
      "38.0% 완료\n",
      "39.0% 완료\n",
      "40.0% 완료\n",
      "41.0% 완료\n",
      "42.0% 완료\n",
      "43.0% 완료\n",
      "44.0% 완료\n",
      "45.0% 완료\n",
      "46.0% 완료\n",
      "47.0% 완료\n",
      "48.0% 완료\n",
      "49.0% 완료\n",
      "50.0% 완료\n",
      "51.0% 완료\n",
      "52.0% 완료\n",
      "53.0% 완료\n",
      "54.0% 완료\n",
      "55.0% 완료\n",
      "56.0% 완료\n",
      "57.0% 완료\n",
      "58.0% 완료\n",
      "59.0% 완료\n",
      "60.0% 완료\n",
      "61.0% 완료\n",
      "62.0% 완료\n",
      "63.0% 완료\n",
      "64.0% 완료\n",
      "65.0% 완료\n",
      "66.0% 완료\n",
      "67.0% 완료\n",
      "68.0% 완료\n",
      "69.0% 완료\n",
      "70.0% 완료\n",
      "71.0% 완료\n",
      "72.0% 완료\n",
      "73.0% 완료\n",
      "74.0% 완료\n",
      "75.0% 완료\n",
      "76.0% 완료\n",
      "77.0% 완료\n",
      "78.0% 완료\n",
      "79.0% 완료\n",
      "80.0% 완료\n",
      "81.0% 완료\n",
      "82.0% 완료\n",
      "83.0% 완료\n",
      "84.0% 완료\n",
      "85.0% 완료\n",
      "86.0% 완료\n",
      "87.0% 완료\n",
      "88.0% 완료\n",
      "89.0% 완료\n",
      "90.0% 완료\n",
      "91.0% 완료\n",
      "92.0% 완료\n",
      "93.0% 완료\n",
      "94.0% 완료\n",
      "95.0% 완료\n",
      "96.0% 완료\n",
      "97.0% 완료\n",
      "98.0% 완료\n",
      "99.0% 완료\n",
      "100.0% 완료\n"
     ]
    }
   ],
   "source": [
    "window_size = 2\n",
    "wordvec_size = 100\n",
    "\n",
    "corpus, word_to_id, id_to_word = ptb.load_data('train')\n",
    "vocab_size = len(word_to_id)\n",
    "print('동시 발생 수 계산...')\n",
    "C = create_co_matrix(corpus, vocab_size, window_size)\n",
    "print('PPMI 계산')\n",
    "W = ppmi(C, verbose=True)"
   ]
  },
  {
   "cell_type": "code",
   "execution_count": 69,
   "metadata": {
    "ExecuteTime": {
     "end_time": "2021-08-02T15:30:37.156595Z",
     "start_time": "2021-08-02T15:30:37.150471Z"
    }
   },
   "outputs": [
    {
     "data": {
      "text/plain": [
       "10000"
      ]
     },
     "execution_count": 69,
     "metadata": {},
     "output_type": "execute_result"
    }
   ],
   "source": [
    "len(W[1])"
   ]
  },
  {
   "cell_type": "code",
   "execution_count": 72,
   "metadata": {
    "ExecuteTime": {
     "end_time": "2021-08-02T15:31:30.148495Z",
     "start_time": "2021-08-02T15:31:25.353326Z"
    }
   },
   "outputs": [
    {
     "name": "stdout",
     "output_type": "stream",
     "text": [
      "SVD 계산\n",
      "\n",
      "[query]you\n",
      "i : 0.68\n",
      "we : 0.65\n",
      "do : 0.6\n",
      "anybody : 0.57\n",
      "else : 0.52\n",
      "\n",
      "[query]year\n",
      "month : 0.64\n",
      "quarter : 0.62\n",
      "february : 0.62\n",
      "june : 0.61\n",
      "months : 0.61\n",
      "\n",
      "[query]car\n",
      "luxury : 0.57\n",
      "auto : 0.54\n",
      "cars : 0.54\n",
      "vehicle : 0.49\n",
      "routes : 0.47\n",
      "\n",
      "[query]toyota\n",
      "motor : 0.71\n",
      "nissan : 0.67\n",
      "motors : 0.65\n",
      "lexus : 0.6\n",
      "mazda : 0.59\n"
     ]
    }
   ],
   "source": [
    "print('SVD 계산')\n",
    "try :\n",
    "    # 빠른 버전\n",
    "    from sklearn.utils.extmath import randomized_svd\n",
    "    U,S,V = randomized_svd(W, n_components=wordvec_size, n_iter=5, random_state=None)\n",
    "except ImportError :\n",
    "    # 느린 버전\n",
    "    U, S, V = np.linalg.svd(W)\n",
    "\n",
    "word_vecs = U[:,:wordvec_size]\n",
    "querys = ['you','year','car','toyota']\n",
    "for query in querys:\n",
    "    most_similar(query, word_to_id, id_to_word, word_vecs, top=5)"
   ]
  }
 ],
 "metadata": {
  "kernelspec": {
   "display_name": "Python 3",
   "language": "python",
   "name": "python3"
  },
  "language_info": {
   "codemirror_mode": {
    "name": "ipython",
    "version": 3
   },
   "file_extension": ".py",
   "mimetype": "text/x-python",
   "name": "python",
   "nbconvert_exporter": "python",
   "pygments_lexer": "ipython3",
   "version": "3.8.5"
  },
  "toc": {
   "base_numbering": 1,
   "nav_menu": {},
   "number_sections": true,
   "sideBar": true,
   "skip_h1_title": false,
   "title_cell": "Table of Contents",
   "title_sidebar": "Contents",
   "toc_cell": false,
   "toc_position": {},
   "toc_section_display": true,
   "toc_window_display": false
  },
  "varInspector": {
   "cols": {
    "lenName": 16,
    "lenType": 16,
    "lenVar": 40
   },
   "kernels_config": {
    "python": {
     "delete_cmd_postfix": "",
     "delete_cmd_prefix": "del ",
     "library": "var_list.py",
     "varRefreshCmd": "print(var_dic_list())"
    },
    "r": {
     "delete_cmd_postfix": ") ",
     "delete_cmd_prefix": "rm(",
     "library": "var_list.r",
     "varRefreshCmd": "cat(var_dic_list()) "
    }
   },
   "types_to_exclude": [
    "module",
    "function",
    "builtin_function_or_method",
    "instance",
    "_Feature"
   ],
   "window_display": false
  }
 },
 "nbformat": 4,
 "nbformat_minor": 4
}
