{
 "cells": [
  {
   "cell_type": "markdown",
   "metadata": {},
   "source": [
    "# RNN"
   ]
  },
  {
   "cell_type": "code",
   "execution_count": 1,
   "metadata": {
    "ExecuteTime": {
     "end_time": "2021-08-12T09:18:35.638708Z",
     "start_time": "2021-08-12T09:18:35.624782Z"
    }
   },
   "outputs": [],
   "source": [
    "import numpy as np"
   ]
  },
  {
   "cell_type": "markdown",
   "metadata": {},
   "source": [
    "## RNN 계층 구현"
   ]
  },
  {
   "cell_type": "code",
   "execution_count": 4,
   "metadata": {
    "ExecuteTime": {
     "end_time": "2021-08-12T11:09:58.902183Z",
     "start_time": "2021-08-12T11:09:58.887688Z"
    }
   },
   "outputs": [],
   "source": [
    "class RNN:\n",
    "    def __init__(self, Wx, Wh, b) :\n",
    "        self.params = [Wx, Wh, b]\n",
    "        self.grads = [np.zeros_like(Wx), np.zeros_like(Wh), np.zeros_like(b)]\n",
    "        self.cache = None\n",
    "        \n",
    "    def forward(self, x, h_prev) :\n",
    "        Wx, Wh, b = self.params\n",
    "        t = np.matmul(h_prev, Wh) + np.matmul(x, Wx) + b\n",
    "        h_next = np.tahn(t)\n",
    "        \n",
    "        self.cache = (x, h_prev, h_next)\n",
    "        return h_next\n",
    "    \n",
    "    def backward(self, dh_next) :\n",
    "        Wx, Wh, b = self.params # 매개변수 2개 지정\n",
    "        x, h_prev, h_next = self.cache # 중간 데이터 저장\n",
    "        \n",
    "        dt = dh_next * (1-h_next ** 2) # tanh 함수 미분 값 * h_next 미분 값\n",
    "        db = np.sum(dt, axis=0)\n",
    "        dWh = np.matmul(h_prev.T, dt)\n",
    "        dh_prev = np.matmul(dt, Wh.T)\n",
    "        dWx = np.matul(dt, Wx.T)\n",
    "        \n",
    "        self.grads[0][...] = dWx\n",
    "        self.grads[1][...] = dWh\n",
    "        self.grads[2][...] = db\n",
    "        \n",
    "        return dx, dh_prev\n",
    "    "
   ]
  },
  {
   "cell_type": "markdown",
   "metadata": {},
   "source": [
    "## Time RNN 계층 구현"
   ]
  },
  {
   "cell_type": "code",
   "execution_count": 9,
   "metadata": {
    "ExecuteTime": {
     "end_time": "2021-08-12T15:28:56.820784Z",
     "start_time": "2021-08-12T15:28:56.802446Z"
    }
   },
   "outputs": [],
   "source": [
    "class TimeRNN :\n",
    "    def __init__(self, Wx, Wh, b, stateful=False) :\n",
    "        self.params = [Wx, Wh, b]\n",
    "        self.grads = [np.zeros_like(Wx), np.zeros_like(Wh), np.zeros_like(b)]\n",
    "        self.layers = None # 다수의 RNN 계층을 리스트로 저장\n",
    "        \n",
    "        self.h, self.dh = None, None\n",
    "        self.stateful = stateful\n",
    "    \n",
    "    def set_state(self, h) :\n",
    "        self.h = h\n",
    "    \n",
    "    def reset_state(self) :\n",
    "        self.h = None\n",
    "    \n",
    "    def forward(self, xs) :\n",
    "        Wx, Wh, b = self.params\n",
    "        N, T, D = xs.shape # 미니배치 크기 N, T개 분량의 시계열, 입력벡터의 차원 수 D\n",
    "        D, H = Wx.shape # 매개변수 모양\n",
    "        \n",
    "        self.layers = []\n",
    "        hs = np.empty((N,T,H), dtype = 'f') # 출력값을 담을 그릇 준비\n",
    "        \n",
    "        if not self.stateful or self.h is None :\n",
    "            self.h = np.zeros((N,H), dtype = 'f') # stateful도 false라면, self.h가 없다면 영행렬 호출\n",
    "        \n",
    "        for t in range(T):\n",
    "            layer = RNN(*self.params) # t회 RNN 계층 생성 반복\n",
    "            self.h = layer.forward(xs[:,t,:], self.h) # 처음 self.h는 영행렬이지만 xs가 입력되고 RNN을 거쳐 출력된 값으로 업데이트 됨\n",
    "            hs[:,t,:] = self.h # t 인덱스 별로 hs 값 입력\n",
    "            self.layers.append(layer)\n",
    "            \n",
    "        return hs # t개 있음\n",
    "    \n",
    "    def backward(self, dhs) :\n",
    "        Wx, Wh, b = self.params\n",
    "        N, T, D = xs.shape # 미니배치 크기 N, T개 분량의 시계열, 입력벡터의 차원 수 D\n",
    "        D, H = Wx.shape    \n",
    "        \n",
    "        dxs = np.empty((N,T,D), dtype= 'f')\n",
    "        dh = 0 \n",
    "        grads = [0,0,0]\n",
    "        for t in reversed(range(T)) :\n",
    "            layer = self.layers[t]\n",
    "            dx, dh = layer.backward(dhs[:,t,:] + dh) # 합산된 기울기\n",
    "            dxs[:,t,:] = dx\n",
    "            \n",
    "            for i, grad in enumerate(layer.grads):\n",
    "                grads[i] += grad\n",
    "                \n",
    "        for i, grad in enumerate(grads) :\n",
    "            self.grads[i][...] = grad\n",
    "        self.dh = dh\n",
    "        return dxs"
   ]
  },
  {
   "cell_type": "markdown",
   "metadata": {},
   "source": [
    "## RNNLM 구현"
   ]
  },
  {
   "cell_type": "code",
   "execution_count": 1,
   "metadata": {
    "ExecuteTime": {
     "end_time": "2021-08-15T06:47:12.897944Z",
     "start_time": "2021-08-15T06:47:12.847305Z"
    }
   },
   "outputs": [],
   "source": [
    "import sys\n",
    "sys.path.append('..')\n",
    "import numpy as np\n",
    "from common.time_layers import *"
   ]
  },
  {
   "cell_type": "code",
   "execution_count": 42,
   "metadata": {
    "ExecuteTime": {
     "end_time": "2021-08-15T08:38:24.298042Z",
     "start_time": "2021-08-15T08:38:24.276488Z"
    }
   },
   "outputs": [],
   "source": [
    "class SimpleRnnlm : \n",
    "    def __init__(self, vocab_size, word2vec_size, hidden_size) :\n",
    "        V,D,H = vocab_size, word2vec_size, hidden_size\n",
    "        rn = np.random.randn\n",
    "        \n",
    "        # 가중치 초기화\n",
    "        embed_W = (rn(V,D)/100).astype('f')\n",
    "        rnn_Wx = (rn(D,H)/np.sqrt(D)).astype('f') # Xavier 초깃값\n",
    "        rnn_Wh = (rn(H,H)/np.sqrt(H)).astype('f') # Xavier 초깃값\n",
    "        rnn_b = np.zeros(H).astype('f')\n",
    "        affine_W =  (rn(H,V)/np.sqrt(H)).astype('f')\n",
    "        affine_b = np.zeros(V).astype('f')\n",
    "        \n",
    "        # 계층생성\n",
    "        self.layers = [\n",
    "            TimeEmbedding(embed_W),\n",
    "            TimeRNN(rnn_Wx, rnn_Wh, rnn_b, stateful = True),\n",
    "            TimeAffine(affine_W, affine_b)\n",
    "        ]\n",
    "        self.loss_layer = TimeSoftmaxWithLoss()\n",
    "        self.rnn_layer = self.layers[1]\n",
    "        \n",
    "        # 모든 가중치와 기울기를 리스트에 모은다\n",
    "        self.params, self.grads = [], []\n",
    "        for layer in self.layers :\n",
    "            self.params += layer.params\n",
    "            self.grads += layer.grads\n",
    "    \n",
    "    def forward(self, xs, ts) :\n",
    "        for layer in self.layers :\n",
    "            xs = layer.forward(xs)\n",
    "        loss = self.loss_layer.forward(xs, ts)\n",
    "        return loss\n",
    "    \n",
    "    def backward(self, dout =1) :\n",
    "        dout = self.loss_layer.backward(dout)\n",
    "        for layer in reversed(self.layers) :\n",
    "            dout = layer.backward(dout)\n",
    "        return dout\n",
    "    \n",
    "    def reset_state(self) :\n",
    "        self.rnn_layer.reset_state()"
   ]
  },
  {
   "cell_type": "markdown",
   "metadata": {},
   "source": [
    "## RNNLM 학습"
   ]
  },
  {
   "cell_type": "code",
   "execution_count": 15,
   "metadata": {
    "ExecuteTime": {
     "end_time": "2021-08-15T07:49:47.801257Z",
     "start_time": "2021-08-15T07:49:47.788497Z"
    }
   },
   "outputs": [],
   "source": [
    "import matplotlib.pyplot as plt\n",
    "from common.optimizer import SGD"
   ]
  },
  {
   "cell_type": "code",
   "execution_count": 16,
   "metadata": {
    "ExecuteTime": {
     "end_time": "2021-08-15T07:49:52.259714Z",
     "start_time": "2021-08-15T07:49:52.238555Z"
    }
   },
   "outputs": [],
   "source": [
    "import ptb"
   ]
  },
  {
   "cell_type": "code",
   "execution_count": 45,
   "metadata": {
    "ExecuteTime": {
     "end_time": "2021-08-15T08:40:08.865909Z",
     "start_time": "2021-08-15T08:40:04.691616Z"
    }
   },
   "outputs": [
    {
     "name": "stdout",
     "output_type": "stream",
     "text": [
      "말뭉치 크기: 1000, 어휘수 : 418\n",
      "| 에폭 1 | 퍼플렉서티 400.05\n",
      "| 에폭 2 | 퍼플렉서티 282.98\n",
      "| 에폭 3 | 퍼플렉서티 224.57\n",
      "| 에폭 4 | 퍼플렉서티 215.30\n",
      "| 에폭 5 | 퍼플렉서티 205.34\n",
      "| 에폭 6 | 퍼플렉서티 202.05\n",
      "| 에폭 7 | 퍼플렉서티 199.16\n",
      "| 에폭 8 | 퍼플렉서티 196.63\n",
      "| 에폭 9 | 퍼플렉서티 191.75\n",
      "| 에폭 10 | 퍼플렉서티 192.37\n",
      "| 에폭 11 | 퍼플렉서티 188.75\n",
      "| 에폭 12 | 퍼플렉서티 192.40\n",
      "| 에폭 13 | 퍼플렉서티 190.60\n",
      "| 에폭 14 | 퍼플렉서티 190.59\n",
      "| 에폭 15 | 퍼플렉서티 189.50\n",
      "| 에폭 16 | 퍼플렉서티 185.61\n",
      "| 에폭 17 | 퍼플렉서티 183.77\n",
      "| 에폭 18 | 퍼플렉서티 180.23\n",
      "| 에폭 19 | 퍼플렉서티 180.95\n",
      "| 에폭 20 | 퍼플렉서티 182.18\n",
      "| 에폭 21 | 퍼플렉서티 180.06\n",
      "| 에폭 22 | 퍼플렉서티 177.10\n",
      "| 에폭 23 | 퍼플렉서티 173.52\n",
      "| 에폭 24 | 퍼플렉서티 173.89\n",
      "| 에폭 25 | 퍼플렉서티 172.30\n",
      "| 에폭 26 | 퍼플렉서티 171.97\n",
      "| 에폭 27 | 퍼플렉서티 165.42\n",
      "| 에폭 28 | 퍼플렉서티 165.93\n",
      "| 에폭 29 | 퍼플렉서티 164.41\n",
      "| 에폭 30 | 퍼플렉서티 158.37\n",
      "| 에폭 31 | 퍼플렉서티 157.93\n",
      "| 에폭 32 | 퍼플렉서티 153.00\n",
      "| 에폭 33 | 퍼플렉서티 153.38\n",
      "| 에폭 34 | 퍼플렉서티 148.12\n",
      "| 에폭 35 | 퍼플렉서티 147.80\n",
      "| 에폭 36 | 퍼플렉서티 140.60\n",
      "| 에폭 37 | 퍼플렉서티 136.21\n",
      "| 에폭 38 | 퍼플렉서티 131.61\n",
      "| 에폭 39 | 퍼플렉서티 128.67\n",
      "| 에폭 40 | 퍼플렉서티 123.73\n",
      "| 에폭 41 | 퍼플렉서티 121.36\n",
      "| 에폭 42 | 퍼플렉서티 119.87\n",
      "| 에폭 43 | 퍼플렉서티 109.88\n",
      "| 에폭 44 | 퍼플렉서티 105.62\n",
      "| 에폭 45 | 퍼플렉서티 104.14\n",
      "| 에폭 46 | 퍼플렉서티 100.60\n",
      "| 에폭 47 | 퍼플렉서티 98.58\n",
      "| 에폭 48 | 퍼플렉서티 91.69\n",
      "| 에폭 49 | 퍼플렉서티 87.22\n",
      "| 에폭 50 | 퍼플렉서티 83.96\n",
      "| 에폭 51 | 퍼플렉서티 80.00\n",
      "| 에폭 52 | 퍼플렉서티 76.81\n",
      "| 에폭 53 | 퍼플렉서티 71.95\n",
      "| 에폭 54 | 퍼플렉서티 71.70\n",
      "| 에폭 55 | 퍼플렉서티 67.10\n",
      "| 에폭 56 | 퍼플렉서티 65.22\n",
      "| 에폭 57 | 퍼플렉서티 61.48\n",
      "| 에폭 58 | 퍼플렉서티 57.94\n",
      "| 에폭 59 | 퍼플렉서티 53.95\n",
      "| 에폭 60 | 퍼플렉서티 51.99\n",
      "| 에폭 61 | 퍼플렉서티 49.03\n",
      "| 에폭 62 | 퍼플렉서티 47.21\n",
      "| 에폭 63 | 퍼플렉서티 44.11\n",
      "| 에폭 64 | 퍼플렉서티 41.14\n",
      "| 에폭 65 | 퍼플렉서티 39.65\n",
      "| 에폭 66 | 퍼플렉서티 38.19\n",
      "| 에폭 67 | 퍼플렉서티 36.51\n",
      "| 에폭 68 | 퍼플렉서티 32.65\n",
      "| 에폭 69 | 퍼플렉서티 30.92\n",
      "| 에폭 70 | 퍼플렉서티 30.62\n",
      "| 에폭 71 | 퍼플렉서티 29.64\n",
      "| 에폭 72 | 퍼플렉서티 26.58\n",
      "| 에폭 73 | 퍼플렉서티 25.31\n",
      "| 에폭 74 | 퍼플렉서티 23.94\n",
      "| 에폭 75 | 퍼플렉서티 23.94\n",
      "| 에폭 76 | 퍼플렉서티 22.10\n",
      "| 에폭 77 | 퍼플렉서티 20.67\n",
      "| 에폭 78 | 퍼플렉서티 19.55\n",
      "| 에폭 79 | 퍼플렉서티 17.86\n",
      "| 에폭 80 | 퍼플렉서티 17.64\n",
      "| 에폭 81 | 퍼플렉서티 17.49\n",
      "| 에폭 82 | 퍼플렉서티 15.62\n",
      "| 에폭 83 | 퍼플렉서티 14.68\n",
      "| 에폭 84 | 퍼플렉서티 13.88\n",
      "| 에폭 85 | 퍼플렉서티 13.94\n",
      "| 에폭 86 | 퍼플렉서티 12.77\n",
      "| 에폭 87 | 퍼플렉서티 12.25\n",
      "| 에폭 88 | 퍼플렉서티 11.29\n",
      "| 에폭 89 | 퍼플렉서티 10.55\n",
      "| 에폭 90 | 퍼플렉서티 10.03\n",
      "| 에폭 91 | 퍼플렉서티 9.47\n",
      "| 에폭 92 | 퍼플렉서티 9.05\n",
      "| 에폭 93 | 퍼플렉서티 9.10\n",
      "| 에폭 94 | 퍼플렉서티 8.37\n",
      "| 에폭 95 | 퍼플렉서티 7.85\n",
      "| 에폭 96 | 퍼플렉서티 7.50\n",
      "| 에폭 97 | 퍼플렉서티 7.25\n",
      "| 에폭 98 | 퍼플렉서티 6.65\n",
      "| 에폭 99 | 퍼플렉서티 6.50\n",
      "| 에폭 100 | 퍼플렉서티 6.11\n"
     ]
    }
   ],
   "source": [
    "# 하이퍼파라미터 설정\n",
    "batch_size = 10\n",
    "wordvec_size = 100\n",
    "hidden_size = 100 # RNN 은닉상태 벡터의 원소 수\n",
    "time_size = 5\n",
    "lr = 0.1\n",
    "max_epoch = 100\n",
    "\n",
    "# 학습데이터 읽기(전체 중 1000개만)\n",
    "corpus, word_to_id, id_to_word, = ptb.load_data('train')\n",
    "corpus_size = 1000\n",
    "corpus = corpus[:corpus_size] # corpus는 1000개, vocab_size는 417+1개\n",
    "vocab_size = int(max(corpus)+1)\n",
    "\n",
    "xs = corpus[:-1] # 입력\n",
    "ts = corpus[1:] # 출력(정답 레이블)\n",
    "data_size = len(xs)\n",
    "print('말뭉치 크기: %d, 어휘수 : %d' % (corpus_size, vocab_size))\n",
    "\n",
    "# 학습시 사용하는 변수\n",
    "max_iters = data_size//(batch_size*time_size) # 999 // 10 * 5 = 19(몫)\n",
    "time_idx = 0\n",
    "total_loss = 0\n",
    "loss_count = 0\n",
    "ppl_list = []\n",
    "\n",
    "# 모델 생성\n",
    "model = SimpleRnnlm(vocab_size, wordvec_size, hidden_size)\n",
    "optimizer = SGD(lr)\n",
    "\n",
    "# 각 미니배치에서 샘플을 읽기 시작 위치를 계산\n",
    "jump = (corpus_size -1) // batch_size # 999 // 10 = 99\n",
    "offsets = [i*jump for i in range(batch_size)] # 0, 99, 198 ...\n",
    "\n",
    "for epoch in range(max_epoch) :\n",
    "    for iter in range(max_iters) :\n",
    "        # 미니배치 획득\n",
    "        batch_x = np.empty((batch_size, time_size), dtype = 'i')\n",
    "        batch_t = np.empty((batch_size, time_size), dtype = 'i')\n",
    "        for t in range(time_size) :\n",
    "            for i, offset in enumerate(offsets) : # (0,0), (1,99) 롤링\n",
    "                batch_x[i,t] = xs[(offset + time_idx) % data_size] # 나머지값\n",
    "                batch_t[i,t] = ts[(offset + time_idx) % data_size]\n",
    "            time_idx +=1\n",
    "        \n",
    "        # 기울기를 구하여 매개변수 갱신\n",
    "        loss = model.forward(batch_x,batch_t)\n",
    "        model.backward()\n",
    "        optimizer.update(model.params, model.grads)\n",
    "        total_loss += loss\n",
    "        loss_count += 1\n",
    "        \n",
    "    # 에폭마다 퍼플렉서티 평가\n",
    "    ppl = np.exp(total_loss / loss_count)\n",
    "    print('| 에폭 %d | 퍼플렉서티 %.2f' % (epoch+1, ppl))\n",
    "    ppl_list.append(float(ppl))\n",
    "    total_loss, loss_count = 0, 0"
   ]
  },
  {
   "cell_type": "code",
   "execution_count": 37,
   "metadata": {
    "ExecuteTime": {
     "end_time": "2021-08-15T08:33:15.760938Z",
     "start_time": "2021-08-15T08:33:15.754256Z"
    }
   },
   "outputs": [
    {
     "data": {
      "text/plain": [
       "0"
      ]
     },
     "execution_count": 37,
     "metadata": {},
     "output_type": "execute_result"
    }
   ],
   "source": [
    "999 % data_size"
   ]
  },
  {
   "cell_type": "code",
   "execution_count": 30,
   "metadata": {
    "ExecuteTime": {
     "end_time": "2021-08-15T08:28:52.493509Z",
     "start_time": "2021-08-15T08:28:52.486391Z"
    }
   },
   "outputs": [
    {
     "data": {
      "text/plain": [
       "999"
      ]
     },
     "execution_count": 30,
     "metadata": {},
     "output_type": "execute_result"
    }
   ],
   "source": [
    "len(xs)"
   ]
  },
  {
   "cell_type": "code",
   "execution_count": 29,
   "metadata": {
    "ExecuteTime": {
     "end_time": "2021-08-15T08:28:20.343317Z",
     "start_time": "2021-08-15T08:28:20.335628Z"
    }
   },
   "outputs": [
    {
     "data": {
      "text/plain": [
       "19"
      ]
     },
     "execution_count": 29,
     "metadata": {},
     "output_type": "execute_result"
    }
   ],
   "source": [
    "max_iters = data_size//(batch_size*time_size)\n",
    "max_iters"
   ]
  },
  {
   "cell_type": "code",
   "execution_count": 58,
   "metadata": {
    "ExecuteTime": {
     "end_time": "2021-08-15T08:49:44.696494Z",
     "start_time": "2021-08-15T08:49:44.682595Z"
    }
   },
   "outputs": [
    {
     "data": {
      "text/plain": [
       "[0, 99, 198, 297, 396, 495, 594, 693, 792, 891]"
      ]
     },
     "execution_count": 58,
     "metadata": {},
     "output_type": "execute_result"
    }
   ],
   "source": [
    "jump = (corpus_size -1) // batch_size\n",
    "offsets = [i*jump for i in range(batch_size)]\n",
    "offsets"
   ]
  },
  {
   "cell_type": "code",
   "execution_count": 62,
   "metadata": {
    "ExecuteTime": {
     "end_time": "2021-08-15T08:50:43.226081Z",
     "start_time": "2021-08-15T08:50:43.208652Z"
    }
   },
   "outputs": [
    {
     "name": "stdout",
     "output_type": "stream",
     "text": [
      "0 0\n",
      "1 99\n",
      "2 198\n",
      "3 297\n",
      "4 396\n",
      "5 495\n",
      "6 594\n",
      "7 693\n",
      "8 792\n",
      "9 891\n"
     ]
    }
   ],
   "source": [
    "for i, offset in enumerate(offsets) :\n",
    "    print(i, offset)"
   ]
  },
  {
   "cell_type": "code",
   "execution_count": 64,
   "metadata": {
    "ExecuteTime": {
     "end_time": "2021-08-15T08:52:04.401248Z",
     "start_time": "2021-08-15T08:52:04.385836Z"
    }
   },
   "outputs": [
    {
     "data": {
      "text/plain": [
       "76"
      ]
     },
     "execution_count": 64,
     "metadata": {},
     "output_type": "execute_result"
    }
   ],
   "source": [
    "xs[100]"
   ]
  },
  {
   "cell_type": "code",
   "execution_count": 1,
   "metadata": {
    "ExecuteTime": {
     "end_time": "2021-08-15T13:54:58.905012Z",
     "start_time": "2021-08-15T13:54:58.715346Z"
    }
   },
   "outputs": [
    {
     "ename": "NameError",
     "evalue": "name 'batch_x' is not defined",
     "output_type": "error",
     "traceback": [
      "\u001b[1;31m---------------------------------------------------------------------------\u001b[0m",
      "\u001b[1;31mNameError\u001b[0m                                 Traceback (most recent call last)",
      "\u001b[1;32m<ipython-input-1-f6528c7c77b6>\u001b[0m in \u001b[0;36m<module>\u001b[1;34m\u001b[0m\n\u001b[1;32m----> 1\u001b[1;33m \u001b[0mbatch_x\u001b[0m\u001b[1;33m\u001b[0m\u001b[1;33m\u001b[0m\u001b[0m\n\u001b[0m",
      "\u001b[1;31mNameError\u001b[0m: name 'batch_x' is not defined"
     ]
    }
   ],
   "source": [
    "batch_x"
   ]
  }
 ],
 "metadata": {
  "kernelspec": {
   "display_name": "Python 3",
   "language": "python",
   "name": "python3"
  },
  "language_info": {
   "codemirror_mode": {
    "name": "ipython",
    "version": 3
   },
   "file_extension": ".py",
   "mimetype": "text/x-python",
   "name": "python",
   "nbconvert_exporter": "python",
   "pygments_lexer": "ipython3",
   "version": "3.8.5"
  },
  "toc": {
   "base_numbering": 1,
   "nav_menu": {},
   "number_sections": true,
   "sideBar": true,
   "skip_h1_title": false,
   "title_cell": "Table of Contents",
   "title_sidebar": "Contents",
   "toc_cell": false,
   "toc_position": {},
   "toc_section_display": true,
   "toc_window_display": false
  },
  "varInspector": {
   "cols": {
    "lenName": 16,
    "lenType": 16,
    "lenVar": 40
   },
   "kernels_config": {
    "python": {
     "delete_cmd_postfix": "",
     "delete_cmd_prefix": "del ",
     "library": "var_list.py",
     "varRefreshCmd": "print(var_dic_list())"
    },
    "r": {
     "delete_cmd_postfix": ") ",
     "delete_cmd_prefix": "rm(",
     "library": "var_list.r",
     "varRefreshCmd": "cat(var_dic_list()) "
    }
   },
   "types_to_exclude": [
    "module",
    "function",
    "builtin_function_or_method",
    "instance",
    "_Feature"
   ],
   "window_display": false
  }
 },
 "nbformat": 4,
 "nbformat_minor": 4
}
