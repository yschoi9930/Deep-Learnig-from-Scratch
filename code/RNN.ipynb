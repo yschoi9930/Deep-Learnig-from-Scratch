{
 "cells": [
  {
   "cell_type": "code",
   "execution_count": 1,
   "metadata": {
    "ExecuteTime": {
     "end_time": "2021-08-12T09:18:35.638708Z",
     "start_time": "2021-08-12T09:18:35.624782Z"
    }
   },
   "outputs": [],
   "source": [
    "import numpy as np"
   ]
  },
  {
   "cell_type": "code",
   "execution_count": 4,
   "metadata": {
    "ExecuteTime": {
     "end_time": "2021-08-12T11:09:58.902183Z",
     "start_time": "2021-08-12T11:09:58.887688Z"
    }
   },
   "outputs": [],
   "source": [
    "class RNN:\n",
    "    def __init__(self, Wx, Wh, b) :\n",
    "        self.params = [Wx, Wh, b]\n",
    "        self.grads = [np.zeros_like(Wx), np.zeros_like(Wh), np.zeros_like(b)]\n",
    "        self.cache = None\n",
    "        \n",
    "    def forward(self, x, h_prev) :\n",
    "        Wx, Wh, b = self.params\n",
    "        t = np.matmul(h_prev, Wh) + np.matmul(x, Wx) + b\n",
    "        h_next = np.tahn(t)\n",
    "        \n",
    "        self.cache = (x, h_prev, h_next)\n",
    "        return h_next\n",
    "    \n",
    "    def backward(self, dh_next) :\n",
    "        Wx, Wh, b = self.params # 매개변수 2개 지정\n",
    "        x, h_prev, h_next = self.cache # 중간 데이터 저장\n",
    "        \n",
    "        dt = dh_next * (1-h_next ** 2) # tanh 함수 미분 값 * h_next 미분 값\n",
    "        db = np.sum(dt, axis=0)\n",
    "        dWh = np.matmul(h_prev.T, dt)\n",
    "        dh_prev = np.matmul(dt, Wh.T)\n",
    "        dWx = np.matul(dt, Wx.T)\n",
    "        \n",
    "        self.grads[0][...] = dWx\n",
    "        self.grads[1][...] = dWh\n",
    "        self.grads[2][...] = db\n",
    "        \n",
    "        return dx, dh_prev\n",
    "    "
   ]
  },
  {
   "cell_type": "code",
   "execution_count": 9,
   "metadata": {
    "ExecuteTime": {
     "end_time": "2021-08-12T15:28:56.820784Z",
     "start_time": "2021-08-12T15:28:56.802446Z"
    }
   },
   "outputs": [],
   "source": [
    "class TimeRNN :\n",
    "    def __init__(self, Wx, Wh, b, stateful=False) :\n",
    "        self.params = [Wx, Wh, b]\n",
    "        self.grads = [np.zeros_like(Wx), np.zeros_like(Wh), np.zeros_like(b)]\n",
    "        self.layers = None # 다수의 RNN 계층을 리스트로 저장\n",
    "        \n",
    "        self.h, self.dh = None, None\n",
    "        self.stateful = stateful\n",
    "    \n",
    "    def set_state(self, h) :\n",
    "        self.h = h\n",
    "    \n",
    "    def reset_state(self) :\n",
    "        self.h = None\n",
    "    \n",
    "    def forward(self, xs) :\n",
    "        Wx, Wh, b = self.params\n",
    "        N, T, D = xs.shape # 미니배치 크기 N, T개 분량의 시계열, 입력벡터의 차원 수 D\n",
    "        D, H = Wx.shape # 매개변수 모양\n",
    "        \n",
    "        self.layers = []\n",
    "        hs = np.empty((N,T,H), dtype = 'f') # 출력값을 담을 그릇 준비\n",
    "        \n",
    "        if not self.stateful or self.h is None :\n",
    "            self.h = np.zeros((N,H), dtype = 'f') # stateful도 false라면, self.h가 없다면 영행렬 호출\n",
    "        \n",
    "        for t in range(T):\n",
    "            layer = RNN(*self.params) # t회 RNN 계층 생성 반복\n",
    "            self.h = layer.forward(xs[:,t,:], self.h) # 처음 self.h는 영행렬이지만 xs가 입력되고 RNN을 거쳐 출력된 값으로 업데이트 됨\n",
    "            hs[:,t,:] = self.h # t 인덱스 별로 hs 값 입력\n",
    "            self.layers.append(layer)\n",
    "            \n",
    "        return hs # t개 있음\n",
    "    \n",
    "    def backward(self, dhs) :\n",
    "        Wx, Wh, b = self.params\n",
    "        N, T, D = xs.shape # 미니배치 크기 N, T개 분량의 시계열, 입력벡터의 차원 수 D\n",
    "        D, H = Wx.shape    \n",
    "        \n",
    "        dxs = np.empty((N,T,D), dtype= 'f')\n",
    "        dh = 0 \n",
    "        grads = [0,0,0]\n",
    "        for t in reversed(range(T)) :\n",
    "            layer = self.layers[t]\n",
    "            dx, dh = layer.backward(dhs[:,t,:] + dh) # 합산된 기울기\n",
    "            dxs[:,t,:] = dx\n",
    "            \n",
    "            for i, grad in enumerate(layer.grads):\n",
    "                grads[i] += grad\n",
    "                \n",
    "        for i, grad in enumerate(grads) :\n",
    "            self.grads[i][...] = grad\n",
    "        self.dh = dh\n",
    "        return dxs"
   ]
  },
  {
   "cell_type": "code",
   "execution_count": null,
   "metadata": {},
   "outputs": [],
   "source": []
  }
 ],
 "metadata": {
  "kernelspec": {
   "display_name": "Python 3",
   "language": "python",
   "name": "python3"
  },
  "language_info": {
   "codemirror_mode": {
    "name": "ipython",
    "version": 3
   },
   "file_extension": ".py",
   "mimetype": "text/x-python",
   "name": "python",
   "nbconvert_exporter": "python",
   "pygments_lexer": "ipython3",
   "version": "3.8.5"
  },
  "toc": {
   "base_numbering": 1,
   "nav_menu": {},
   "number_sections": true,
   "sideBar": true,
   "skip_h1_title": false,
   "title_cell": "Table of Contents",
   "title_sidebar": "Contents",
   "toc_cell": false,
   "toc_position": {},
   "toc_section_display": true,
   "toc_window_display": false
  },
  "varInspector": {
   "cols": {
    "lenName": 16,
    "lenType": 16,
    "lenVar": 40
   },
   "kernels_config": {
    "python": {
     "delete_cmd_postfix": "",
     "delete_cmd_prefix": "del ",
     "library": "var_list.py",
     "varRefreshCmd": "print(var_dic_list())"
    },
    "r": {
     "delete_cmd_postfix": ") ",
     "delete_cmd_prefix": "rm(",
     "library": "var_list.r",
     "varRefreshCmd": "cat(var_dic_list()) "
    }
   },
   "types_to_exclude": [
    "module",
    "function",
    "builtin_function_or_method",
    "instance",
    "_Feature"
   ],
   "window_display": false
  }
 },
 "nbformat": 4,
 "nbformat_minor": 4
}
