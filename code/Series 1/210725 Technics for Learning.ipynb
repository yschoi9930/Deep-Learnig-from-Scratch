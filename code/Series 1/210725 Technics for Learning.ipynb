{
 "cells": [
  {
   "cell_type": "markdown",
   "metadata": {},
   "source": [
    "# 학습 관련 기술들"
   ]
  },
  {
   "cell_type": "markdown",
   "metadata": {},
   "source": [
    "## 확률적 경사 하강법(SGD)"
   ]
  },
  {
   "cell_type": "code",
   "execution_count": 1,
   "metadata": {
    "ExecuteTime": {
     "end_time": "2021-07-25T13:08:21.069469Z",
     "start_time": "2021-07-25T13:08:21.061157Z"
    }
   },
   "outputs": [],
   "source": [
    "class SGD :\n",
    "    def __init__(self, lr = 0.01) :\n",
    "        self.lr = lr\n",
    "    \n",
    "    def update(self, params, grads) :\n",
    "        for key in params.keys():\n",
    "            params[key] -=self.lr*grads[key]"
   ]
  },
  {
   "cell_type": "markdown",
   "metadata": {},
   "source": [
    "## 모멘텀"
   ]
  },
  {
   "cell_type": "code",
   "execution_count": null,
   "metadata": {},
   "outputs": [],
   "source": [
    "class Momentum :\n",
    "    def __init__(self, lr=0.01, momentum = 0.9) :\n",
    "        self.lr = lr\n",
    "        self.momentum = momentum\n",
    "        self.v = None\n",
    "    \n",
    "    def update(self, params, grads) :\n",
    "        if self.v is None :\n",
    "            self.v = {}\n",
    "            for key, val in params.items() :\n",
    "                self.v[key] = np.zeros_like(val)\n",
    "            for key in params.keys():\n",
    "                self.v[key] = self.momentum * self.v[key] - self.lr * grads[key]\n",
    "                params[key] += self.v[key]"
   ]
  },
  {
   "cell_type": "markdown",
   "metadata": {},
   "source": [
    "## 가중치의 초깃값"
   ]
  },
  {
   "cell_type": "code",
   "execution_count": 13,
   "metadata": {
    "ExecuteTime": {
     "end_time": "2021-07-25T14:15:21.507889Z",
     "start_time": "2021-07-25T14:15:21.456362Z"
    }
   },
   "outputs": [],
   "source": [
    "import numpy as np\n",
    "import matplotlib.pyplot as plt\n",
    "\n",
    "def sigmoid(x) :\n",
    "    return 1/ (1+ np.exp(-x))\n",
    "\n",
    "# 입력데이터\n",
    "x = np.random.randn(1000, 100)\n",
    "# 각 층 뉴런\n",
    "node_num = 100\n",
    "# 은닉층\n",
    "hidden_layer_size = 5\n",
    "# 활성화 값\n",
    "activations = {}\n",
    "\n",
    "for i in range(hidden_layer_size) :\n",
    "    if i != 0 :\n",
    "        x = activations[i-1]\n",
    "    # acrivation 0번 인덱스에 x 값 \n",
    "    w = np.random.randn(node_num, node_num) * 0.01\n",
    "    # w값 100개 만들기\n",
    "    a = np.dot(x,w)\n",
    "    # 매개변수와 입력데이터 계산\n",
    "    z = sigmoid(a)\n",
    "    # 활성화함수로 sigmoid 적용\n",
    "    activations[i] = z\n",
    "    # 결과값 activation 1번 값으로"
   ]
  },
  {
   "cell_type": "code",
   "execution_count": 14,
   "metadata": {
    "ExecuteTime": {
     "end_time": "2021-07-25T14:15:23.406164Z",
     "start_time": "2021-07-25T14:15:22.116023Z"
    }
   },
   "outputs": [
    {
     "data": {
      "image/png": "[encoded data removed]",
      "text/plain": [
       "<Figure size 432x288 with 5 Axes>"
      ]
     },
     "metadata": {
      "needs_background": "light"
     },
     "output_type": "display_data"
    }
   ],
   "source": [
    "for i, a in activations.items():\n",
    "    plt.subplot(1, len(activations), i+1)\n",
    "    plt.title(str(i+1) + '-layer')\n",
    "    plt.hist(a.flatten(), 30, range = (0,1))\n",
    "plt.show()"
   ]
  },
  {
   "cell_type": "markdown",
   "metadata": {
    "ExecuteTime": {
     "end_time": "2021-07-25T14:14:30.387354Z",
     "start_time": "2021-07-25T14:14:30.378211Z"
    }
   },
   "source": [
    "### 자비에 초깃값"
   ]
  },
  {
   "cell_type": "code",
   "execution_count": 15,
   "metadata": {
    "ExecuteTime": {
     "end_time": "2021-07-25T14:25:59.947884Z",
     "start_time": "2021-07-25T14:25:59.892389Z"
    }
   },
   "outputs": [],
   "source": [
    "def sigmoid(x) :\n",
    "    return 1/ (1+ np.exp(-x))\n",
    "\n",
    "# 입력데이터\n",
    "x = np.random.randn(1000, 100)\n",
    "# 각 층 뉴런\n",
    "node_num = 100\n",
    "# 은닉층\n",
    "hidden_layer_size = 5\n",
    "# 활성화 값\n",
    "activations = {}\n",
    "\n",
    "for i in range(hidden_layer_size) :\n",
    "    if i != 0 :\n",
    "        x = activations[i-1]\n",
    "    # acrivation 0번 인덱스에 x 값 \n",
    "    w = np.random.randn(node_num, node_num) / np.sqrt(node_num)\n",
    "    # w값 100개 만들기, 자비에 초깃값 사용\n",
    "    a = np.dot(x,w)\n",
    "    # 매개변수와 입력데이터 계산\n",
    "    z = sigmoid(a)\n",
    "    # 활성화함수로 sigmoid 적용\n",
    "    activations[i] = z\n",
    "    # 결과값 activation 1번 값으로"
   ]
  },
  {
   "cell_type": "code",
   "execution_count": 16,
   "metadata": {
    "ExecuteTime": {
     "end_time": "2021-07-25T14:26:01.832171Z",
     "start_time": "2021-07-25T14:26:00.579389Z"
    }
   },
   "outputs": [
    {
     "data": {
      "image/png": "[encoded data removed]",
      "text/plain": [
       "<Figure size 432x288 with 5 Axes>"
      ]
     },
     "metadata": {
      "needs_background": "light"
     },
     "output_type": "display_data"
    }
   ],
   "source": [
    "for i, a in activations.items():\n",
    "    plt.subplot(1, len(activations), i+1)\n",
    "    plt.title(str(i+1) + '-layer')\n",
    "    plt.hist(a.flatten(), 30, range = (0,1))\n",
    "plt.show()"
   ]
  },
  {
   "cell_type": "markdown",
   "metadata": {},
   "source": [
    "## Dropout"
   ]
  },
  {
   "cell_type": "code",
   "execution_count": 17,
   "metadata": {
    "ExecuteTime": {
     "end_time": "2021-07-26T09:26:38.997474Z",
     "start_time": "2021-07-26T09:26:38.967143Z"
    }
   },
   "outputs": [],
   "source": [
    "class dropout :\n",
    "    def __init__(self, dropout_ratio = 0.5) :\n",
    "        self.dropout_ratio = dropout_ratio\n",
    "        self.mask = None\n",
    "    \n",
    "    def forward(self, x, train_fig = True) :\n",
    "        if train_fig :\n",
    "            self.mask = np.random.rand(*x.shape) > self.dropout_ratio\n",
    "            return x * self.mask\n",
    "        else :\n",
    "            return x * (1.0 - self.dropout_ratio)\n",
    "    def backward(self, dout) :\n",
    "        return dout * self.mask\n",
    "    "
   ]
  },
  {
   "cell_type": "code",
   "execution_count": 39,
   "metadata": {
    "ExecuteTime": {
     "end_time": "2021-07-26T10:05:35.813214Z",
     "start_time": "2021-07-26T10:05:35.799240Z"
    }
   },
   "outputs": [
    {
     "data": {
      "text/plain": [
       "array([ True,  True,  True, False,  True])"
      ]
     },
     "execution_count": 39,
     "metadata": {},
     "output_type": "execute_result"
    }
   ],
   "source": [
    "x = np.array([1,3,1,2,1])\n",
    "a = np.random.rand(*x.shape) > 0.5\n",
    "a"
   ]
  },
  {
   "cell_type": "code",
   "execution_count": 40,
   "metadata": {
    "ExecuteTime": {
     "end_time": "2021-07-26T10:05:37.201756Z",
     "start_time": "2021-07-26T10:05:37.184893Z"
    }
   },
   "outputs": [
    {
     "data": {
      "text/plain": [
       "array([1, 3, 1, 0, 1])"
      ]
     },
     "execution_count": 40,
     "metadata": {},
     "output_type": "execute_result"
    }
   ],
   "source": [
    "(a) * x"
   ]
  },
  {
   "cell_type": "code",
   "execution_count": 20,
   "metadata": {
    "ExecuteTime": {
     "end_time": "2021-07-26T09:29:40.384672Z",
     "start_time": "2021-07-26T09:29:40.362404Z"
    }
   },
   "outputs": [
    {
     "data": {
      "text/plain": [
       "array([0.36728065, 0.88799615, 0.77771525, 0.43747981, 0.9477445 ])"
      ]
     },
     "execution_count": 20,
     "metadata": {},
     "output_type": "execute_result"
    }
   ],
   "source": [
    "np.random.rand(5)"
   ]
  },
  {
   "cell_type": "code",
   "execution_count": 25,
   "metadata": {
    "ExecuteTime": {
     "end_time": "2021-07-26T09:40:52.231081Z",
     "start_time": "2021-07-26T09:40:52.222918Z"
    }
   },
   "outputs": [
    {
     "name": "stdout",
     "output_type": "stream",
     "text": [
      "Help on built-in function rand:\n",
      "\n",
      "rand(...) method of numpy.random.mtrand.RandomState instance\n",
      "    rand(d0, d1, ..., dn)\n",
      "    \n",
      "    Random values in a given shape.\n",
      "    \n",
      "    .. note::\n",
      "        This is a convenience function for users porting code from Matlab,\n",
      "        and wraps `random_sample`. That function takes a\n",
      "        tuple to specify the size of the output, which is consistent with\n",
      "        other NumPy functions like `numpy.zeros` and `numpy.ones`.\n",
      "    \n",
      "    Create an array of the given shape and populate it with\n",
      "    random samples from a uniform distribution\n",
      "    over ``[0, 1)``.\n",
      "    \n",
      "    Parameters\n",
      "    ----------\n",
      "    d0, d1, ..., dn : int, optional\n",
      "        The dimensions of the returned array, must be non-negative.\n",
      "        If no argument is given a single Python float is returned.\n",
      "    \n",
      "    Returns\n",
      "    -------\n",
      "    out : ndarray, shape ``(d0, d1, ..., dn)``\n",
      "        Random values.\n",
      "    \n",
      "    See Also\n",
      "    --------\n",
      "    random\n",
      "    \n",
      "    Examples\n",
      "    --------\n",
      "    >>> np.random.rand(3,2)\n",
      "    array([[ 0.14022471,  0.96360618],  #random\n",
      "           [ 0.37601032,  0.25528411],  #random\n",
      "           [ 0.49313049,  0.94909878]]) #random\n",
      "\n"
     ]
    }
   ],
   "source": [
    "help(np.random.rand)"
   ]
  }
 ],
 "metadata": {
  "kernelspec": {
   "display_name": "Python 3",
   "language": "python",
   "name": "python3"
  },
  "language_info": {
   "codemirror_mode": {
    "name": "ipython",
    "version": 3
   },
   "file_extension": ".py",
   "mimetype": "text/x-python",
   "name": "python",
   "nbconvert_exporter": "python",
   "pygments_lexer": "ipython3",
   "version": "3.8.5"
  },
  "toc": {
   "base_numbering": 1,
   "nav_menu": {},
   "number_sections": true,
   "sideBar": true,
   "skip_h1_title": false,
   "title_cell": "Table of Contents",
   "title_sidebar": "Contents",
   "toc_cell": false,
   "toc_position": {},
   "toc_section_display": true,
   "toc_window_display": false
  },
  "varInspector": {
   "cols": {
    "lenName": 16,
    "lenType": 16,
    "lenVar": 40
   },
   "kernels_config": {
    "python": {
     "delete_cmd_postfix": "",
     "delete_cmd_prefix": "del ",
     "library": "var_list.py",
     "varRefreshCmd": "print(var_dic_list())"
    },
    "r": {
     "delete_cmd_postfix": ") ",
     "delete_cmd_prefix": "rm(",
     "library": "var_list.r",
     "varRefreshCmd": "cat(var_dic_list()) "
    }
   },
   "types_to_exclude": [
    "module",
    "function",
    "builtin_function_or_method",
    "instance",
    "_Feature"
   ],
   "window_display": false
  }
 },
 "nbformat": 4,
 "nbformat_minor": 4
}
