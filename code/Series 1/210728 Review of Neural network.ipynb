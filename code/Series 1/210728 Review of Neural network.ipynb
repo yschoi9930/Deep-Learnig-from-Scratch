{
 "cells": [
  {
   "cell_type": "code",
   "execution_count": 6,
   "metadata": {
    "ExecuteTime": {
     "end_time": "2021-08-01T08:17:14.964873Z",
     "start_time": "2021-08-01T08:17:14.960797Z"
    }
   },
   "outputs": [],
   "source": [
    "import numpy as np"
   ]
  },
  {
   "cell_type": "code",
   "execution_count": 7,
   "metadata": {
    "ExecuteTime": {
     "end_time": "2021-08-01T08:17:14.980128Z",
     "start_time": "2021-08-01T08:17:14.967620Z"
    }
   },
   "outputs": [],
   "source": [
    "a = np.array([[-1.5, 0.5, 0.5], [2, 0, -1], [0.5, -0.5, 0.5]])"
   ]
  },
  {
   "cell_type": "code",
   "execution_count": 8,
   "metadata": {
    "ExecuteTime": {
     "end_time": "2021-08-01T08:17:14.995457Z",
     "start_time": "2021-08-01T08:17:14.983421Z"
    }
   },
   "outputs": [],
   "source": [
    "a = np.array([[4, 6, 2], [3, 4, 1], [2, 8, 13]])"
   ]
  },
  {
   "cell_type": "code",
   "execution_count": 9,
   "metadata": {
    "ExecuteTime": {
     "end_time": "2021-08-01T08:17:15.010244Z",
     "start_time": "2021-08-01T08:17:14.997972Z"
    }
   },
   "outputs": [],
   "source": [
    "b = np.array([9/4, -1/2, 2])"
   ]
  },
  {
   "cell_type": "code",
   "execution_count": 10,
   "metadata": {
    "ExecuteTime": {
     "end_time": "2021-08-01T08:17:15.040893Z",
     "start_time": "2021-08-01T08:17:15.012203Z"
    }
   },
   "outputs": [
    {
     "data": {
      "text/plain": [
       "array([[-3.14285714,  4.42857143,  0.14285714],\n",
       "       [ 2.64285714, -3.42857143, -0.14285714],\n",
       "       [-1.14285714,  1.42857143,  0.14285714]])"
      ]
     },
     "execution_count": 10,
     "metadata": {},
     "output_type": "execute_result"
    }
   ],
   "source": [
    "np.linalg.inv(a)"
   ]
  },
  {
   "cell_type": "code",
   "execution_count": 11,
   "metadata": {
    "ExecuteTime": {
     "end_time": "2021-08-01T08:17:15.055947Z",
     "start_time": "2021-08-01T08:17:15.043403Z"
    }
   },
   "outputs": [],
   "source": [
    "b = np.array([[1, 1, 1],\n",
    "     [3, 2, 1],\n",
    "     [2, 1, 2]])"
   ]
  },
  {
   "cell_type": "code",
   "execution_count": 12,
   "metadata": {
    "ExecuteTime": {
     "end_time": "2021-08-01T08:17:15.072431Z",
     "start_time": "2021-08-01T08:17:15.059970Z"
    }
   },
   "outputs": [
    {
     "data": {
      "text/plain": [
       "array([[26, 18, 14],\n",
       "       [17, 12,  9],\n",
       "       [52, 31, 36]])"
      ]
     },
     "execution_count": 12,
     "metadata": {},
     "output_type": "execute_result"
    }
   ],
   "source": [
    "np.dot(a,b)"
   ]
  },
  {
   "cell_type": "code",
   "execution_count": 13,
   "metadata": {
    "ExecuteTime": {
     "end_time": "2021-08-01T08:17:15.087069Z",
     "start_time": "2021-08-01T08:17:15.079948Z"
    }
   },
   "outputs": [],
   "source": [
    "def sigmoid(x) :\n",
    "    return 1 / (1+np.exp(-x))"
   ]
  },
  {
   "cell_type": "code",
   "execution_count": 14,
   "metadata": {
    "ExecuteTime": {
     "end_time": "2021-08-01T08:17:15.102702Z",
     "start_time": "2021-08-01T08:17:15.092332Z"
    }
   },
   "outputs": [],
   "source": [
    "x = np.random.randn(10,2)\n",
    "W1 = np.random.randn(2,4)\n",
    "b1 = np.random.randn(4)\n",
    "W2 = np.random.randn(4,3)\n",
    "b2 = np.random.randn(3)"
   ]
  },
  {
   "cell_type": "code",
   "execution_count": 15,
   "metadata": {
    "ExecuteTime": {
     "end_time": "2021-08-01T08:17:15.118147Z",
     "start_time": "2021-08-01T08:17:15.108290Z"
    }
   },
   "outputs": [
    {
     "data": {
      "text/plain": [
       "array([[-3.44941442, -0.62785273,  0.19545374],\n",
       "       [-1.76695791, -0.98579735, -0.52882226],\n",
       "       [-1.4976196 , -1.00310946, -0.68241635],\n",
       "       [-1.77423794, -0.96976101, -0.49099613],\n",
       "       [-1.54990703, -0.87736027, -0.38121505],\n",
       "       [-1.63154529, -0.81721608, -0.24404189],\n",
       "       [-1.84766753, -0.64171319,  0.03713673],\n",
       "       [-1.7990341 , -0.60355394,  0.07502115],\n",
       "       [-1.91925096, -1.07127969, -0.65920972],\n",
       "       [-3.57755786, -0.40562275,  0.38181288]])"
      ]
     },
     "execution_count": 15,
     "metadata": {},
     "output_type": "execute_result"
    }
   ],
   "source": [
    "h = np.matmul(x,W1) + b1\n",
    "a = sigmoid(h)\n",
    "s = np.matmul(a, W2) + b2\n",
    "s"
   ]
  },
  {
   "cell_type": "code",
   "execution_count": 16,
   "metadata": {
    "ExecuteTime": {
     "end_time": "2021-08-01T08:17:15.133519Z",
     "start_time": "2021-08-01T08:17:15.122340Z"
    }
   },
   "outputs": [],
   "source": [
    "class Sigmoid :\n",
    "    def __init__(self):\n",
    "        self.params = []\n",
    "        \n",
    "    def forward(self, x) :\n",
    "        return 1 / (1+np.exp(-x))"
   ]
  },
  {
   "cell_type": "code",
   "execution_count": 17,
   "metadata": {
    "ExecuteTime": {
     "end_time": "2021-08-01T08:17:15.148342Z",
     "start_time": "2021-08-01T08:17:15.139727Z"
    }
   },
   "outputs": [],
   "source": [
    "class Affine :\n",
    "    def __init__(self, W, b) :\n",
    "        self.params = [W,b]\n",
    "    \n",
    "    def forward(self, x) :\n",
    "        W, b = self.params\n",
    "        out = np.matmul(x,W) +b\n",
    "        return out"
   ]
  },
  {
   "cell_type": "code",
   "execution_count": 18,
   "metadata": {
    "ExecuteTime": {
     "end_time": "2021-08-01T08:17:15.163141Z",
     "start_time": "2021-08-01T08:17:15.151856Z"
    }
   },
   "outputs": [],
   "source": [
    "class TwoLayerNet:\n",
    "    def __init__(self, input_size, hidden_size, output_size) :\n",
    "        I, H, O = input_size, hidden_size, output_size\n",
    "        \n",
    "        # 가중치와 편향 초기화\n",
    "        W1 = np.random.randn(I,H)\n",
    "        b1 = np.random.randn(H)\n",
    "        W2 = np.random.randn(H,O)\n",
    "        b2 = np.random.randn(O)\n",
    "        \n",
    "        # 계층 생성\n",
    "        self.layers = [\n",
    "            Affine(W1, b1),\n",
    "            Sigmoid(),\n",
    "            Affine(W2, b2)\n",
    "        ]\n",
    "        # 각 함수(레이어)별로 매개변수 지정 -> Affine.params = [W1,b2] 이런 식으로 저장됨\n",
    "        \n",
    "        # 모든 가중치를 리스트에 모은다\n",
    "        self.params = []\n",
    "        for layer in self.layers :\n",
    "            self.params += layer.params\n",
    "        \n",
    "        # TwoLayerNet.params에 Affine.params, Sigmoid.params 등이 저장됨\n",
    "        \n",
    "    def predict(self, x) :\n",
    "        for layer in self.layers:\n",
    "            x = layer.forward(x)\n",
    "        return x\n",
    "        \n",
    "        # 입력데이터 x가 Affine.forward, Sigmoid.forward 매소드로 전달됨"
   ]
  },
  {
   "cell_type": "code",
   "execution_count": 23,
   "metadata": {
    "ExecuteTime": {
     "end_time": "2021-08-01T08:18:27.347127Z",
     "start_time": "2021-08-01T08:18:27.340396Z"
    }
   },
   "outputs": [],
   "source": [
    "x= np.random.randn(10,2)\n",
    "model = TwoLayerNet(2,4,3)\n",
    "s= model.predict(x)"
   ]
  },
  {
   "cell_type": "code",
   "execution_count": 24,
   "metadata": {
    "ExecuteTime": {
     "end_time": "2021-08-01T08:18:28.063732Z",
     "start_time": "2021-08-01T08:18:28.050192Z"
    }
   },
   "outputs": [
    {
     "data": {
      "text/plain": [
       "array([[-1.22524219, -0.35569904],\n",
       "       [ 1.19994314, -1.72820656],\n",
       "       [ 0.04291548,  0.37239753],\n",
       "       [-0.32119193,  1.22884052],\n",
       "       [ 0.98464464,  1.61337278],\n",
       "       [ 0.13347583, -0.5633989 ],\n",
       "       [-0.73170976, -0.81299974],\n",
       "       [ 0.20378191,  0.39334698],\n",
       "       [-1.11994562, -0.47757037],\n",
       "       [ 1.64527715, -0.48889426]])"
      ]
     },
     "execution_count": 24,
     "metadata": {},
     "output_type": "execute_result"
    }
   ],
   "source": [
    "x"
   ]
  },
  {
   "cell_type": "code",
   "execution_count": 20,
   "metadata": {
    "ExecuteTime": {
     "end_time": "2021-08-01T08:17:15.193490Z",
     "start_time": "2021-08-01T08:17:15.181993Z"
    }
   },
   "outputs": [
    {
     "data": {
      "text/plain": [
       "array([[ 1.80674722e+00, -1.45574736e-03, -1.03793318e+00],\n",
       "       [ 1.77031801e+00, -1.60963780e-02, -1.07813242e+00],\n",
       "       [ 1.56737303e+00, -2.80129811e-01, -1.31329822e+00],\n",
       "       [ 1.87360857e+00,  4.42284375e-02, -9.14747167e-01],\n",
       "       [ 1.58925247e+00,  1.32012867e-03, -1.20780413e+00],\n",
       "       [ 1.70454547e+00,  9.71466197e-02, -1.08452724e+00],\n",
       "       [ 1.68478026e+00, -7.31913145e-02, -1.16918279e+00],\n",
       "       [ 1.73247285e+00,  9.37570315e-03, -1.10305042e+00],\n",
       "       [ 1.48274784e+00, -3.77026809e-01, -1.43278025e+00],\n",
       "       [ 1.50816383e+00, -2.12847141e-01, -1.35922555e+00]])"
      ]
     },
     "execution_count": 20,
     "metadata": {},
     "output_type": "execute_result"
    }
   ],
   "source": [
    "s"
   ]
  },
  {
   "cell_type": "code",
   "execution_count": null,
   "metadata": {},
   "outputs": [],
   "source": [
    "# Repeat 노드"
   ]
  },
  {
   "cell_type": "code",
   "execution_count": 25,
   "metadata": {
    "ExecuteTime": {
     "end_time": "2021-08-01T08:18:30.796841Z",
     "start_time": "2021-08-01T08:18:30.790678Z"
    }
   },
   "outputs": [
    {
     "data": {
      "text/plain": [
       "array([[-0.51385992, -1.04376836,  0.5262188 , -0.95525009,  0.60991532,\n",
       "        -0.39859991, -0.1456503 ,  0.30844807]])"
      ]
     },
     "execution_count": 25,
     "metadata": {},
     "output_type": "execute_result"
    }
   ],
   "source": [
    "D, N = 8, 7\n",
    "x = np.random.randn(1,D)\n",
    "x"
   ]
  },
  {
   "cell_type": "code",
   "execution_count": 26,
   "metadata": {
    "ExecuteTime": {
     "end_time": "2021-08-01T08:18:39.825113Z",
     "start_time": "2021-08-01T08:18:39.815002Z"
    },
    "scrolled": true
   },
   "outputs": [
    {
     "data": {
      "text/plain": [
       "array([[-0.51385992, -1.04376836,  0.5262188 , -0.95525009,  0.60991532,\n",
       "        -0.39859991, -0.1456503 ,  0.30844807],\n",
       "       [-0.51385992, -1.04376836,  0.5262188 , -0.95525009,  0.60991532,\n",
       "        -0.39859991, -0.1456503 ,  0.30844807],\n",
       "       [-0.51385992, -1.04376836,  0.5262188 , -0.95525009,  0.60991532,\n",
       "        -0.39859991, -0.1456503 ,  0.30844807],\n",
       "       [-0.51385992, -1.04376836,  0.5262188 , -0.95525009,  0.60991532,\n",
       "        -0.39859991, -0.1456503 ,  0.30844807],\n",
       "       [-0.51385992, -1.04376836,  0.5262188 , -0.95525009,  0.60991532,\n",
       "        -0.39859991, -0.1456503 ,  0.30844807],\n",
       "       [-0.51385992, -1.04376836,  0.5262188 , -0.95525009,  0.60991532,\n",
       "        -0.39859991, -0.1456503 ,  0.30844807],\n",
       "       [-0.51385992, -1.04376836,  0.5262188 , -0.95525009,  0.60991532,\n",
       "        -0.39859991, -0.1456503 ,  0.30844807]])"
      ]
     },
     "execution_count": 26,
     "metadata": {},
     "output_type": "execute_result"
    }
   ],
   "source": [
    "y = np.repeat(x, N, axis = 0) # 원소복제 수행, 배열 x를 N번 복제, axis 방향으로 복제\n",
    "y"
   ]
  },
  {
   "cell_type": "code",
   "execution_count": 27,
   "metadata": {
    "ExecuteTime": {
     "end_time": "2021-08-01T09:15:11.989519Z",
     "start_time": "2021-08-01T09:15:11.975622Z"
    }
   },
   "outputs": [
    {
     "data": {
      "text/plain": [
       "array([[ 0.08711007, -0.03625885,  2.10046258, -0.05679739,  0.43270964,\n",
       "         1.28953935,  0.97013566, -0.13815527],\n",
       "       [ 0.14533964,  0.16792786,  0.60727349, -0.80882314,  0.77811376,\n",
       "         0.24078319,  0.20935929,  0.22760224],\n",
       "       [ 0.66351727, -0.12213266, -0.55158269,  0.03521419, -0.74067892,\n",
       "         0.01771666,  0.11512581,  0.23024494],\n",
       "       [ 0.57244436,  0.10048124, -0.0943456 , -1.12516104, -0.27748097,\n",
       "        -0.70115668, -0.71541845, -0.22936845],\n",
       "       [ 0.10281684, -1.74384082,  1.24718703,  1.364152  , -0.28316951,\n",
       "         0.50793277, -1.31700012, -0.4112539 ],\n",
       "       [ 0.39423715, -0.53896368,  1.39680101,  2.53242755,  0.419721  ,\n",
       "        -0.41314661, -1.60745352,  0.32693016],\n",
       "       [ 1.89955557, -1.45529689,  1.20958423,  0.41622964, -0.13138844,\n",
       "         0.26461457, -0.77390378,  0.76909442]])"
      ]
     },
     "execution_count": 27,
     "metadata": {},
     "output_type": "execute_result"
    }
   ],
   "source": [
    "dy = np.random.randn(N,D)\n",
    "dy"
   ]
  },
  {
   "cell_type": "code",
   "execution_count": 29,
   "metadata": {
    "ExecuteTime": {
     "end_time": "2021-08-01T09:15:17.215319Z",
     "start_time": "2021-08-01T09:15:17.202103Z"
    }
   },
   "outputs": [
    {
     "data": {
      "text/plain": [
       "array([[ 3.86502091, -3.6280838 ,  5.91538007,  2.35724181,  0.19782656,\n",
       "         1.20628326, -3.1191551 ,  0.77509413]])"
      ]
     },
     "execution_count": 29,
     "metadata": {},
     "output_type": "execute_result"
    }
   ],
   "source": [
    "dx = np.sum(dy, axis=0, keepdims = True) # keepdims 배열크기 유지\n",
    "dx"
   ]
  },
  {
   "cell_type": "code",
   "execution_count": null,
   "metadata": {},
   "outputs": [],
   "source": [
    "# Sum 노드"
   ]
  },
  {
   "cell_type": "code",
   "execution_count": 30,
   "metadata": {
    "ExecuteTime": {
     "end_time": "2021-08-01T09:38:05.087876Z",
     "start_time": "2021-08-01T09:38:05.066977Z"
    }
   },
   "outputs": [
    {
     "data": {
      "text/plain": [
       "array([[ 0.79781725,  1.51970595, -1.25227957,  0.54496929, -1.4497354 ,\n",
       "        -0.28154585, -0.32555118, -0.20678197],\n",
       "       [ 1.11993297,  0.76003097,  0.11810661, -0.49922859,  0.96089019,\n",
       "         0.22386517,  1.12715125,  0.84583865],\n",
       "       [-0.73851056, -0.47753678, -0.29440121, -0.35259353, -1.01157526,\n",
       "         0.14567281,  0.16150837, -1.68743321],\n",
       "       [ 1.51357913,  1.85776598,  0.98301834,  0.06979267, -0.15968205,\n",
       "         0.22628812,  1.03830146, -0.3694317 ],\n",
       "       [-0.59090574,  1.2432529 ,  0.79447284, -0.13205391,  0.28479181,\n",
       "        -0.14934664,  0.48934759,  2.23762777],\n",
       "       [ 1.4834494 , -0.01595735,  1.03753392, -2.23895511,  1.54205585,\n",
       "         0.27219111,  1.06227692,  0.57971268],\n",
       "       [ 0.36138644,  0.47191242,  1.38695935,  0.22095099, -0.87714279,\n",
       "        -1.49583612, -0.20358083, -1.16222443]])"
      ]
     },
     "execution_count": 30,
     "metadata": {},
     "output_type": "execute_result"
    }
   ],
   "source": [
    "D, N = 8, 7\n",
    "x = np.random.randn(N,D)\n",
    "x"
   ]
  },
  {
   "cell_type": "code",
   "execution_count": 33,
   "metadata": {
    "ExecuteTime": {
     "end_time": "2021-08-01T09:39:13.785589Z",
     "start_time": "2021-08-01T09:39:13.777473Z"
    }
   },
   "outputs": [],
   "source": [
    "y = np.sum(x, axis=0, keepdims=True)\n",
    "dy = np.random.randn(1,D)\n",
    "dx = np.repeat(dy, N, axis=0)"
   ]
  },
  {
   "cell_type": "code",
   "execution_count": null,
   "metadata": {},
   "outputs": [],
   "source": [
    "# Matmul 노드(행렬 곱셈)"
   ]
  },
  {
   "cell_type": "code",
   "execution_count": 34,
   "metadata": {
    "ExecuteTime": {
     "end_time": "2021-08-01T10:11:57.914505Z",
     "start_time": "2021-08-01T10:11:57.903363Z"
    }
   },
   "outputs": [],
   "source": [
    "class Matmul :\n",
    "    def __init__(self, W) :\n",
    "        self.params = [W]\n",
    "        self.grads = [np.zeros_like(W)]\n",
    "        self.x = None\n",
    "    \n",
    "    def forward(self, x) :\n",
    "        W, = self.params\n",
    "        out = np.matmul(x, W)\n",
    "        self.x = x\n",
    "        return out\n",
    "    \n",
    "    def backward(self, dout) :\n",
    "        W, = self.params\n",
    "        dx = np.matmul(dout, W.T)\n",
    "        dW = np.matmul(self.x.T, dout)\n",
    "        self.grads[0][...] = dW\n",
    "        return dx"
   ]
  },
  {
   "cell_type": "code",
   "execution_count": null,
   "metadata": {},
   "outputs": [],
   "source": [
    "a = np.array([1,2,3])\n",
    "b = np.array([4,5,6])"
   ]
  },
  {
   "cell_type": "code",
   "execution_count": null,
   "metadata": {},
   "outputs": [],
   "source": []
  }
 ],
 "metadata": {
  "kernelspec": {
   "display_name": "Python 3",
   "language": "python",
   "name": "python3"
  },
  "language_info": {
   "codemirror_mode": {
    "name": "ipython",
    "version": 3
   },
   "file_extension": ".py",
   "mimetype": "text/x-python",
   "name": "python",
   "nbconvert_exporter": "python",
   "pygments_lexer": "ipython3",
   "version": "3.8.5"
  },
  "toc": {
   "base_numbering": 1,
   "nav_menu": {},
   "number_sections": true,
   "sideBar": true,
   "skip_h1_title": false,
   "title_cell": "Table of Contents",
   "title_sidebar": "Contents",
   "toc_cell": false,
   "toc_position": {},
   "toc_section_display": true,
   "toc_window_display": false
  },
  "varInspector": {
   "cols": {
    "lenName": 16,
    "lenType": 16,
    "lenVar": 40
   },
   "kernels_config": {
    "python": {
     "delete_cmd_postfix": "",
     "delete_cmd_prefix": "del ",
     "library": "var_list.py",
     "varRefreshCmd": "print(var_dic_list())"
    },
    "r": {
     "delete_cmd_postfix": ") ",
     "delete_cmd_prefix": "rm(",
     "library": "var_list.r",
     "varRefreshCmd": "cat(var_dic_list()) "
    }
   },
   "types_to_exclude": [
    "module",
    "function",
    "builtin_function_or_method",
    "instance",
    "_Feature"
   ],
   "window_display": false
  }
 },
 "nbformat": 4,
 "nbformat_minor": 4
}
